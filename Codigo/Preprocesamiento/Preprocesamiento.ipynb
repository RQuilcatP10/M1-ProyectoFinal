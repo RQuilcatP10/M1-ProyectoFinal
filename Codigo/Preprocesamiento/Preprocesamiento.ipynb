{
  "nbformat": 4,
  "nbformat_minor": 0,
  "metadata": {
    "colab": {
      "name": "M1Preprocesamiento.ipynb",
      "provenance": [],
      "collapsed_sections": []
    },
    "kernelspec": {
      "name": "python3",
      "display_name": "Python 3"
    }
  },
  "cells": [
    {
      "cell_type": "markdown",
      "metadata": {
        "id": "0PtkXHt2h1Zc",
        "colab_type": "text"
      },
      "source": [
        "<h1 align=\"center\"><b>Preprocesamiento</b>\n",
        "<hr>"
      ]
    },
    {
      "cell_type": "markdown",
      "metadata": {
        "id": "Vy8YoiCxiXWY",
        "colab_type": "text"
      },
      "source": [
        "## Importación de paquetes de NLTK y TextBlob"
      ]
    },
    {
      "cell_type": "markdown",
      "metadata": {
        "id": "_qhzuVgAisuV",
        "colab_type": "text"
      },
      "source": [
        "1. Importamos word_tokenize, stopwords, PorterStemmer y TextBlob\n",
        "> NLTK es una librería especializada en Lenguaje Natural, por lo que nos permite hacer procesamiento de texto para clasificación, tokenización, derivación, etiquetado, análisis de sentimientos etc.\n",
        "> <br> **word_tokenize:** Nos permite dividir una cadena (string) en substrings: por ejemplo \"Este es un texto\" a [\"esto\", \"es\", \"un\", \"texto\"]\n",
        "> <br> **stopwords:** Nos permite eliminar palabras innecesarias de un texto\n",
        "> <br> **PorterStemmer:** Es un algoritmo que quita sufijos de las palabras, de tal manera que la palabra quede en su estado primitivo, o raiz, por lo que fasilitaría la clasificación ya que en un tweet podriamos repetir una sola raiz, mas no la misma palabra.\n",
        "> <br> **TextBlob:** Es una librería de análisis de sentimientos, donde permite realizar el calculo de subjectividad y polaridad de una frase completa sin tener que cortar la cadena en subcadenas, sirve para crear datasets de entrenamiento"
      ]
    },
    {
      "cell_type": "code",
      "metadata": {
        "id": "3PSkdq55Liqp",
        "colab_type": "code",
        "colab": {}
      },
      "source": [
        "from nltk.tokenize import word_tokenize\n",
        "from nltk.corpus import stopwords\n",
        "from nltk.stem import PorterStemmer\n",
        "from textblob import TextBlob\n",
        "import pandas as pd\n",
        "import re"
      ],
      "execution_count": 1,
      "outputs": []
    },
    {
      "cell_type": "markdown",
      "metadata": {
        "id": "lvy-5tnvnHVt",
        "colab_type": "text"
      },
      "source": [
        "2. Llamamos a nuestro dataset para realizarle preprocesamiento"
      ]
    },
    {
      "cell_type": "code",
      "metadata": {
        "id": "T7YD3yWXL20J",
        "colab_type": "code",
        "colab": {
          "resources": {
            "http://localhost:8080/nbextensions/google.colab/files.js": {
              "data": "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",
              "ok": true,
              "headers": [
                [
                  "content-type",
                  "application/javascript"
                ]
              ],
              "status": 200,
              "status_text": ""
            }
          },
          "base_uri": "https://localhost:8080/",
          "height": 74
        },
        "outputId": "9ed767af-f462-4c08-9e57-9a6bb3f8234d"
      },
      "source": [
        "#Lo subimos directamente\n",
        "from google.colab import files\n",
        "uploaded = files.upload()\n",
        "#o lo invocamos desde el directorio de datos"
      ],
      "execution_count": 2,
      "outputs": [
        {
          "output_type": "display_data",
          "data": {
            "text/html": [
              "\n",
              "     <input type=\"file\" id=\"files-1dda8898-4da8-4c03-88c6-288dfd87b759\" name=\"files[]\" multiple disabled\n",
              "        style=\"border:none\" />\n",
              "     <output id=\"result-1dda8898-4da8-4c03-88c6-288dfd87b759\">\n",
              "      Upload widget is only available when the cell has been executed in the\n",
              "      current browser session. Please rerun this cell to enable.\n",
              "      </output>\n",
              "      <script src=\"/nbextensions/google.colab/files.js\"></script> "
            ],
            "text/plain": [
              "<IPython.core.display.HTML object>"
            ]
          },
          "metadata": {
            "tags": []
          }
        },
        {
          "output_type": "stream",
          "text": [
            "Saving covid_russia_vaccine_twits.csv to covid_russia_vaccine_twits (1).csv\n"
          ],
          "name": "stdout"
        }
      ]
    },
    {
      "cell_type": "markdown",
      "metadata": {
        "id": "v70mRzGHnrTU",
        "colab_type": "text"
      },
      "source": [
        "3. Visualizamos que se subio correctamente y exploramos los campos del dataset en un dataframe"
      ]
    },
    {
      "cell_type": "code",
      "metadata": {
        "id": "Pl0JQzo-L89f",
        "colab_type": "code",
        "colab": {
          "base_uri": "https://localhost:8080/",
          "height": 186
        },
        "outputId": "6b8f6af8-3d9c-4f71-8440-368a16ae0beb"
      },
      "source": [
        "data = pd.read_csv('covid_russia_vaccine_twits.csv')\n",
        "data.head(1)"
      ],
      "execution_count": 3,
      "outputs": [
        {
          "output_type": "execute_result",
          "data": {
            "text/html": [
              "<div>\n",
              "<style scoped>\n",
              "    .dataframe tbody tr th:only-of-type {\n",
              "        vertical-align: middle;\n",
              "    }\n",
              "\n",
              "    .dataframe tbody tr th {\n",
              "        vertical-align: top;\n",
              "    }\n",
              "\n",
              "    .dataframe thead th {\n",
              "        text-align: right;\n",
              "    }\n",
              "</style>\n",
              "<table border=\"1\" class=\"dataframe\">\n",
              "  <thead>\n",
              "    <tr style=\"text-align: right;\">\n",
              "      <th></th>\n",
              "      <th>Date</th>\n",
              "      <th>Screen Name</th>\n",
              "      <th>Full Name</th>\n",
              "      <th>Tweet Text</th>\n",
              "      <th>Tweet ID</th>\n",
              "      <th>Link(s)</th>\n",
              "      <th>Media</th>\n",
              "      <th>Location</th>\n",
              "      <th>Retweets</th>\n",
              "      <th>Favorites</th>\n",
              "      <th>App</th>\n",
              "      <th>Followers</th>\n",
              "      <th>Follows</th>\n",
              "      <th>Listed</th>\n",
              "      <th>Verfied</th>\n",
              "      <th>User Since</th>\n",
              "      <th>Location.1</th>\n",
              "      <th>Bio</th>\n",
              "      <th>Website</th>\n",
              "      <th>Timezone</th>\n",
              "      <th>Profile Image</th>\n",
              "    </tr>\n",
              "  </thead>\n",
              "  <tbody>\n",
              "    <tr>\n",
              "      <th>0</th>\n",
              "      <td>12/08/2020 17:20</td>\n",
              "      <td>@geometryfan</td>\n",
              "      <td>Geometry Fan</td>\n",
              "      <td>Oops...and the 2 out of this 38 people are Put...</td>\n",
              "      <td>1293673804787593216</td>\n",
              "      <td>https://www.aerzteblatt.de/nachrichten/115504/...</td>\n",
              "      <td>NaN</td>\n",
              "      <td>NaN</td>\n",
              "      <td>0</td>\n",
              "      <td>0</td>\n",
              "      <td>Twitter for iPad</td>\n",
              "      <td>502</td>\n",
              "      <td>1981</td>\n",
              "      <td>30</td>\n",
              "      <td>NaN</td>\n",
              "      <td>5/08/2011</td>\n",
              "      <td>here</td>\n",
              "      <td>NaN</td>\n",
              "      <td>NaN</td>\n",
              "      <td>NaN</td>\n",
              "      <td>View</td>\n",
              "    </tr>\n",
              "  </tbody>\n",
              "</table>\n",
              "</div>"
            ],
            "text/plain": [
              "               Date   Screen Name     Full Name  ... Website  Timezone Profile Image\n",
              "0  12/08/2020 17:20  @geometryfan  Geometry Fan  ...     NaN       NaN          View\n",
              "\n",
              "[1 rows x 21 columns]"
            ]
          },
          "metadata": {
            "tags": []
          },
          "execution_count": 3
        }
      ]
    },
    {
      "cell_type": "markdown",
      "metadata": {
        "id": "1idiEZ2Xn2Zs",
        "colab_type": "text"
      },
      "source": [
        "4. En un solo dataframe, nos centraremos en el texto del tweet\n",
        "> Esto es crucial para el análisis de sentimientos, ya que lo que queremos obtener son distintos valores apartir de esta sola entrada, para realizar un buen preprocesamiento"
      ]
    },
    {
      "cell_type": "code",
      "metadata": {
        "id": "J4gL4Bn3MNHm",
        "colab_type": "code",
        "colab": {
          "base_uri": "https://localhost:8080/",
          "height": 355
        },
        "outputId": "10b7a8a5-7d51-4cfd-c2fb-6cd075696a64"
      },
      "source": [
        "tweets = pd.DataFrame(data['Tweet Text'])\n",
        "tweets.head(10)"
      ],
      "execution_count": 4,
      "outputs": [
        {
          "output_type": "execute_result",
          "data": {
            "text/html": [
              "<div>\n",
              "<style scoped>\n",
              "    .dataframe tbody tr th:only-of-type {\n",
              "        vertical-align: middle;\n",
              "    }\n",
              "\n",
              "    .dataframe tbody tr th {\n",
              "        vertical-align: top;\n",
              "    }\n",
              "\n",
              "    .dataframe thead th {\n",
              "        text-align: right;\n",
              "    }\n",
              "</style>\n",
              "<table border=\"1\" class=\"dataframe\">\n",
              "  <thead>\n",
              "    <tr style=\"text-align: right;\">\n",
              "      <th></th>\n",
              "      <th>Tweet Text</th>\n",
              "    </tr>\n",
              "  </thead>\n",
              "  <tbody>\n",
              "    <tr>\n",
              "      <th>0</th>\n",
              "      <td>Oops...and the 2 out of this 38 people are Put...</td>\n",
              "    </tr>\n",
              "    <tr>\n",
              "      <th>1</th>\n",
              "      <td>Putin / tRump 2020 RT @smc429: @GOPChairwoman ...</td>\n",
              "    </tr>\n",
              "    <tr>\n",
              "      <th>2</th>\n",
              "      <td>HaHaHaHa Vladimir Putin You GO Boy @KremlinRus...</td>\n",
              "    </tr>\n",
              "    <tr>\n",
              "      <th>3</th>\n",
              "      <td>ohhhhhhhh putin RT @Samsinho_: Notre voiture a...</td>\n",
              "    </tr>\n",
              "    <tr>\n",
              "      <th>4</th>\n",
              "      <td>Not today Putin.</td>\n",
              "    </tr>\n",
              "    <tr>\n",
              "      <th>5</th>\n",
              "      <td>Putin’s “vaccine” must be the reason Donny has...</td>\n",
              "    </tr>\n",
              "    <tr>\n",
              "      <th>6</th>\n",
              "      <td>Most embarrassing use of The Oval Office EVER!...</td>\n",
              "    </tr>\n",
              "    <tr>\n",
              "      <th>7</th>\n",
              "      <td>For @realDonaldTrump : Russia. Putin. Bounties...</td>\n",
              "    </tr>\n",
              "    <tr>\n",
              "      <th>8</th>\n",
              "      <td>Vladimir Putin: Donald Trump vs Vladimir Putin...</td>\n",
              "    </tr>\n",
              "    <tr>\n",
              "      <th>9</th>\n",
              "      <td>Putin is reportedly looking to expand Russia's...</td>\n",
              "    </tr>\n",
              "  </tbody>\n",
              "</table>\n",
              "</div>"
            ],
            "text/plain": [
              "                                          Tweet Text\n",
              "0  Oops...and the 2 out of this 38 people are Put...\n",
              "1  Putin / tRump 2020 RT @smc429: @GOPChairwoman ...\n",
              "2  HaHaHaHa Vladimir Putin You GO Boy @KremlinRus...\n",
              "3  ohhhhhhhh putin RT @Samsinho_: Notre voiture a...\n",
              "4                                   Not today Putin.\n",
              "5  Putin’s “vaccine” must be the reason Donny has...\n",
              "6  Most embarrassing use of The Oval Office EVER!...\n",
              "7  For @realDonaldTrump : Russia. Putin. Bounties...\n",
              "8  Vladimir Putin: Donald Trump vs Vladimir Putin...\n",
              "9  Putin is reportedly looking to expand Russia's..."
            ]
          },
          "metadata": {
            "tags": []
          },
          "execution_count": 4
        }
      ]
    },
    {
      "cell_type": "markdown",
      "metadata": {
        "id": "Z1xafC5IqmSs",
        "colab_type": "text"
      },
      "source": [
        "## Polaridad, Subjetividad, Clasificación de Tweets"
      ]
    },
    {
      "cell_type": "markdown",
      "metadata": {
        "id": "nY_G8NzKoLkJ",
        "colab_type": "text"
      },
      "source": [
        "5. Asignando polaridad, subjetividad y una clasificación al tweet\n",
        "> TextBlob al estar basado en NLTK y sus 50 corpus (conjunto de textos), puede realizar un analisis de sentimiento rápido incluso por encima de los emojis o signos de puntación, analiza el tweet como una unidad textual."
      ]
    },
    {
      "cell_type": "code",
      "metadata": {
        "id": "sXot8vITNY6J",
        "colab_type": "code",
        "colab": {}
      },
      "source": [
        "#Esta función devuelve la subjectividad que determina del tweet completo\n",
        "#Subjetividad: Se refiere a una medida objetiva que no involucra sentimiento\n",
        "#Los posibles valores van de 0 a 1\n",
        "def getSubjectivity(text):\n",
        "  return TextBlob(text).sentiment.subjectivity\n",
        "\n",
        "#Esta función devuelve la polaridad del tweet completo\n",
        "#Polaridad: Se refiere a la medida del sentimiento mismo\n",
        "#Los posibles valores van de -1 a 1\n",
        "def getPolarity(text):\n",
        "  return TextBlob(text).sentiment.polarity\n",
        "\n",
        "#Clasificaremos según la polaridad, ya que es lo que nos interesa\n",
        "#Si es menor a 0 es un tweet negativo\n",
        "#Si es mayor a 0 es un tweet positivo\n",
        "#Si es igual a 0 es un tweet neutro\n",
        "def getClasification(text):\n",
        "  if TextBlob(text).sentiment.polarity > 0:\n",
        "    return 'Positive'\n",
        "  elif TextBlob(text).sentiment.polarity == 0:\n",
        "    return 'Neutral'\n",
        "  else:\n",
        "    return 'Negative'"
      ],
      "execution_count": 5,
      "outputs": []
    },
    {
      "cell_type": "markdown",
      "metadata": {
        "id": "t0zzY_I4o3x2",
        "colab_type": "text"
      },
      "source": [
        "6. Agregamos columnas a nuestro dataframe para poder ver los valores obtenidos de las funciones anteriormente declaradas, a su vez declaramos una columna \"Label\" que nos permitirá realizar la visualización de datos y la implementación de los modelos mas adelante."
      ]
    },
    {
      "cell_type": "code",
      "metadata": {
        "id": "FH7K51WZN-oj",
        "colab_type": "code",
        "colab": {
          "base_uri": "https://localhost:8080/",
          "height": 415
        },
        "outputId": "46ababe0-f7d4-4398-81ac-8bf0c3c6418a"
      },
      "source": [
        "tweets['Polarity'] = tweets['Tweet Text'].apply(getPolarity)\n",
        "tweets['Subjectivity'] = tweets['Tweet Text'].apply(getSubjectivity)\n",
        "tweets['Clasify'] = tweets['Tweet Text'].apply(getClasification)\n",
        "tweets['Label'] = tweets['Clasify'].map({'Positive': 1, 'Negative': 0, 'Neutral': 2})\n",
        "tweets"
      ],
      "execution_count": 6,
      "outputs": [
        {
          "output_type": "execute_result",
          "data": {
            "text/html": [
              "<div>\n",
              "<style scoped>\n",
              "    .dataframe tbody tr th:only-of-type {\n",
              "        vertical-align: middle;\n",
              "    }\n",
              "\n",
              "    .dataframe tbody tr th {\n",
              "        vertical-align: top;\n",
              "    }\n",
              "\n",
              "    .dataframe thead th {\n",
              "        text-align: right;\n",
              "    }\n",
              "</style>\n",
              "<table border=\"1\" class=\"dataframe\">\n",
              "  <thead>\n",
              "    <tr style=\"text-align: right;\">\n",
              "      <th></th>\n",
              "      <th>Tweet Text</th>\n",
              "      <th>Polarity</th>\n",
              "      <th>Subjectivity</th>\n",
              "      <th>Clasify</th>\n",
              "      <th>Label</th>\n",
              "    </tr>\n",
              "  </thead>\n",
              "  <tbody>\n",
              "    <tr>\n",
              "      <th>0</th>\n",
              "      <td>Oops...and the 2 out of this 38 people are Put...</td>\n",
              "      <td>0.000000</td>\n",
              "      <td>0.000000</td>\n",
              "      <td>Neutral</td>\n",
              "      <td>2</td>\n",
              "    </tr>\n",
              "    <tr>\n",
              "      <th>1</th>\n",
              "      <td>Putin / tRump 2020 RT @smc429: @GOPChairwoman ...</td>\n",
              "      <td>0.000000</td>\n",
              "      <td>0.000000</td>\n",
              "      <td>Neutral</td>\n",
              "      <td>2</td>\n",
              "    </tr>\n",
              "    <tr>\n",
              "      <th>2</th>\n",
              "      <td>HaHaHaHa Vladimir Putin You GO Boy @KremlinRus...</td>\n",
              "      <td>0.300000</td>\n",
              "      <td>0.450000</td>\n",
              "      <td>Positive</td>\n",
              "      <td>1</td>\n",
              "    </tr>\n",
              "    <tr>\n",
              "      <th>3</th>\n",
              "      <td>ohhhhhhhh putin RT @Samsinho_: Notre voiture a...</td>\n",
              "      <td>0.000000</td>\n",
              "      <td>0.000000</td>\n",
              "      <td>Neutral</td>\n",
              "      <td>2</td>\n",
              "    </tr>\n",
              "    <tr>\n",
              "      <th>4</th>\n",
              "      <td>Not today Putin.</td>\n",
              "      <td>0.000000</td>\n",
              "      <td>0.000000</td>\n",
              "      <td>Neutral</td>\n",
              "      <td>2</td>\n",
              "    </tr>\n",
              "    <tr>\n",
              "      <th>...</th>\n",
              "      <td>...</td>\n",
              "      <td>...</td>\n",
              "      <td>...</td>\n",
              "      <td>...</td>\n",
              "      <td>...</td>\n",
              "    </tr>\n",
              "    <tr>\n",
              "      <th>2891</th>\n",
              "      <td>Hopefully Drumpf will and maybe sit in on a 6t...</td>\n",
              "      <td>0.000000</td>\n",
              "      <td>0.000000</td>\n",
              "      <td>Neutral</td>\n",
              "      <td>2</td>\n",
              "    </tr>\n",
              "    <tr>\n",
              "      <th>2892</th>\n",
              "      <td>#LyingTed knew. He's just earning the money Pu...</td>\n",
              "      <td>0.045455</td>\n",
              "      <td>0.318182</td>\n",
              "      <td>Positive</td>\n",
              "      <td>1</td>\n",
              "    </tr>\n",
              "    <tr>\n",
              "      <th>2893</th>\n",
              "      <td>This whole thing reminds me of an episode of T...</td>\n",
              "      <td>0.150000</td>\n",
              "      <td>0.244444</td>\n",
              "      <td>Positive</td>\n",
              "      <td>1</td>\n",
              "    </tr>\n",
              "    <tr>\n",
              "      <th>2894</th>\n",
              "      <td>This is a Republican using the military to pan...</td>\n",
              "      <td>-0.060000</td>\n",
              "      <td>0.280000</td>\n",
              "      <td>Negative</td>\n",
              "      <td>0</td>\n",
              "    </tr>\n",
              "    <tr>\n",
              "      <th>2895</th>\n",
              "      <td>Putin’s daughter taking a new vaccine is as pr...</td>\n",
              "      <td>0.170455</td>\n",
              "      <td>0.454545</td>\n",
              "      <td>Positive</td>\n",
              "      <td>1</td>\n",
              "    </tr>\n",
              "  </tbody>\n",
              "</table>\n",
              "<p>2896 rows × 5 columns</p>\n",
              "</div>"
            ],
            "text/plain": [
              "                                             Tweet Text  ...  Label\n",
              "0     Oops...and the 2 out of this 38 people are Put...  ...      2\n",
              "1     Putin / tRump 2020 RT @smc429: @GOPChairwoman ...  ...      2\n",
              "2     HaHaHaHa Vladimir Putin You GO Boy @KremlinRus...  ...      1\n",
              "3     ohhhhhhhh putin RT @Samsinho_: Notre voiture a...  ...      2\n",
              "4                                      Not today Putin.  ...      2\n",
              "...                                                 ...  ...    ...\n",
              "2891  Hopefully Drumpf will and maybe sit in on a 6t...  ...      2\n",
              "2892  #LyingTed knew. He's just earning the money Pu...  ...      1\n",
              "2893  This whole thing reminds me of an episode of T...  ...      1\n",
              "2894  This is a Republican using the military to pan...  ...      0\n",
              "2895  Putin’s daughter taking a new vaccine is as pr...  ...      1\n",
              "\n",
              "[2896 rows x 5 columns]"
            ]
          },
          "metadata": {
            "tags": []
          },
          "execution_count": 6
        }
      ]
    },
    {
      "cell_type": "markdown",
      "metadata": {
        "id": "QFy8rq_tqg5K",
        "colab_type": "text"
      },
      "source": [
        "## Limpieza de Tweets para Análisis de Sentimientos"
      ]
    },
    {
      "cell_type": "markdown",
      "metadata": {
        "id": "QbcvQ48Cq6i5",
        "colab_type": "text"
      },
      "source": [
        "7. Filtramos el dataframe anterior a solamente los tweets que sean positivos o negativos, ya que en estos Labels (0 y 1) se basará el proyecto de aqui en adelante"
      ]
    },
    {
      "cell_type": "code",
      "metadata": {
        "id": "0aqVrdJwPJiK",
        "colab_type": "code",
        "colab": {
          "base_uri": "https://localhost:8080/",
          "height": 202
        },
        "outputId": "1cb6c4e8-954e-4c90-f7fe-9977b284183d"
      },
      "source": [
        "pos_neg_df = pd.DataFrame(tweets[tweets['Label'] != 2], columns=['Tweet Text', 'Label'])\n",
        "pos_neg_df.head()"
      ],
      "execution_count": 7,
      "outputs": [
        {
          "output_type": "execute_result",
          "data": {
            "text/html": [
              "<div>\n",
              "<style scoped>\n",
              "    .dataframe tbody tr th:only-of-type {\n",
              "        vertical-align: middle;\n",
              "    }\n",
              "\n",
              "    .dataframe tbody tr th {\n",
              "        vertical-align: top;\n",
              "    }\n",
              "\n",
              "    .dataframe thead th {\n",
              "        text-align: right;\n",
              "    }\n",
              "</style>\n",
              "<table border=\"1\" class=\"dataframe\">\n",
              "  <thead>\n",
              "    <tr style=\"text-align: right;\">\n",
              "      <th></th>\n",
              "      <th>Tweet Text</th>\n",
              "      <th>Label</th>\n",
              "    </tr>\n",
              "  </thead>\n",
              "  <tbody>\n",
              "    <tr>\n",
              "      <th>2</th>\n",
              "      <td>HaHaHaHa Vladimir Putin You GO Boy @KremlinRus...</td>\n",
              "      <td>1</td>\n",
              "    </tr>\n",
              "    <tr>\n",
              "      <th>5</th>\n",
              "      <td>Putin’s “vaccine” must be the reason Donny has...</td>\n",
              "      <td>1</td>\n",
              "    </tr>\n",
              "    <tr>\n",
              "      <th>6</th>\n",
              "      <td>Most embarrassing use of The Oval Office EVER!...</td>\n",
              "      <td>1</td>\n",
              "    </tr>\n",
              "    <tr>\n",
              "      <th>8</th>\n",
              "      <td>Vladimir Putin: Donald Trump vs Vladimir Putin...</td>\n",
              "      <td>1</td>\n",
              "    </tr>\n",
              "    <tr>\n",
              "      <th>9</th>\n",
              "      <td>Putin is reportedly looking to expand Russia's...</td>\n",
              "      <td>1</td>\n",
              "    </tr>\n",
              "  </tbody>\n",
              "</table>\n",
              "</div>"
            ],
            "text/plain": [
              "                                          Tweet Text  Label\n",
              "2  HaHaHaHa Vladimir Putin You GO Boy @KremlinRus...      1\n",
              "5  Putin’s “vaccine” must be the reason Donny has...      1\n",
              "6  Most embarrassing use of The Oval Office EVER!...      1\n",
              "8  Vladimir Putin: Donald Trump vs Vladimir Putin...      1\n",
              "9  Putin is reportedly looking to expand Russia's...      1"
            ]
          },
          "metadata": {
            "tags": []
          },
          "execution_count": 7
        }
      ]
    },
    {
      "cell_type": "markdown",
      "metadata": {
        "id": "xrnyLu7TrNio",
        "colab_type": "text"
      },
      "source": [
        "8. A este nuevo dataframe le haremos limpieza al texto\n",
        "> Se hará limpieza de caracteres especiales <b>usando str.replace</b> y pasandole como parametros la expresión regular y el valor a cambiar (puede ser en viseversa)<br>\n",
        "> Se aplicará una función lambda para eliminar palabras cortas o monosílabas <b>incluyendo stopwords</b> <br>\n",
        "> Se aplicará una función lambda para tokenizar el tweet (separar un string en substrings)\n",
        "<br>\n",
        "> <i>NOTA: Una función lambda es una función X que se define sin nombre y que realizará ciertas acciones, normalmente se usa para aplicar una función a un dataframe"
      ]
    },
    {
      "cell_type": "code",
      "metadata": {
        "id": "_IYoymbTPyTu",
        "colab_type": "code",
        "colab": {}
      },
      "source": [
        "# eliminando caracteres especiales, numeros, signos de puntuacion, etc\n",
        "pos_neg_df['Clean Tweet'] = pos_neg_df['Tweet Text'].str.replace('[^a-zA-Z]+',' ')\n",
        "# eliminando stopwords\n",
        "pos_neg_df['Clean Tweet'] = pos_neg_df['Clean Tweet'].apply(lambda x: ' '.join([w.lower() for w in x.split() if len(w) > 2]))\n",
        "# creando tokens o substrings\n",
        "tokenized_message = pos_neg_df['Clean Tweet'].apply(lambda x: x.split())"
      ],
      "execution_count": 8,
      "outputs": []
    },
    {
      "cell_type": "code",
      "metadata": {
        "id": "0cuOJHJHQKEy",
        "colab_type": "code",
        "colab": {}
      },
      "source": [
        "from nltk.stem.porter import *\n",
        "stemmer = PorterStemmer()\n",
        "# aplicamos Porter Stemmer a cada uno de los strings\n",
        "tokenized_message = tokenized_message.apply(lambda x: [stemmer.stem(i) for i in x])"
      ],
      "execution_count": 9,
      "outputs": []
    },
    {
      "cell_type": "code",
      "metadata": {
        "id": "C3mVJ8AyQPcz",
        "colab_type": "code",
        "colab": {}
      },
      "source": [
        "# juntamos los tokens en un solo string\n",
        "for i in range(len(tokenized_message)):\n",
        "    tokenized_message.iloc[i] = ' '.join(tokenized_message.iloc[i])"
      ],
      "execution_count": 10,
      "outputs": []
    },
    {
      "cell_type": "code",
      "metadata": {
        "id": "LjJdSS8IQVlV",
        "colab_type": "code",
        "colab": {
          "base_uri": "https://localhost:8080/",
          "height": 202
        },
        "outputId": "0f7a54bc-ed99-4d73-df1a-4a24cdfc6c39"
      },
      "source": [
        "pos_neg_df['Clean Tweet']  = tokenized_message\n",
        "pos_neg_df.head()"
      ],
      "execution_count": 11,
      "outputs": [
        {
          "output_type": "execute_result",
          "data": {
            "text/html": [
              "<div>\n",
              "<style scoped>\n",
              "    .dataframe tbody tr th:only-of-type {\n",
              "        vertical-align: middle;\n",
              "    }\n",
              "\n",
              "    .dataframe tbody tr th {\n",
              "        vertical-align: top;\n",
              "    }\n",
              "\n",
              "    .dataframe thead th {\n",
              "        text-align: right;\n",
              "    }\n",
              "</style>\n",
              "<table border=\"1\" class=\"dataframe\">\n",
              "  <thead>\n",
              "    <tr style=\"text-align: right;\">\n",
              "      <th></th>\n",
              "      <th>Tweet Text</th>\n",
              "      <th>Label</th>\n",
              "      <th>Clean Tweet</th>\n",
              "    </tr>\n",
              "  </thead>\n",
              "  <tbody>\n",
              "    <tr>\n",
              "      <th>2</th>\n",
              "      <td>HaHaHaHa Vladimir Putin You GO Boy @KremlinRus...</td>\n",
              "      <td>1</td>\n",
              "      <td>hahahaha vladimir putin you boy kremlinrussia ...</td>\n",
              "    </tr>\n",
              "    <tr>\n",
              "      <th>5</th>\n",
              "      <td>Putin’s “vaccine” must be the reason Donny has...</td>\n",
              "      <td>1</td>\n",
              "      <td>putin vaccin must the reason donni ha been sur...</td>\n",
              "    </tr>\n",
              "    <tr>\n",
              "      <th>6</th>\n",
              "      <td>Most embarrassing use of The Oval Office EVER!...</td>\n",
              "      <td>1</td>\n",
              "      <td>most embarrass use the oval offic ever well ex...</td>\n",
              "    </tr>\n",
              "    <tr>\n",
              "      <th>8</th>\n",
              "      <td>Vladimir Putin: Donald Trump vs Vladimir Putin...</td>\n",
              "      <td>1</td>\n",
              "      <td>vladimir putin donald trump vladimir putin vac...</td>\n",
              "    </tr>\n",
              "    <tr>\n",
              "      <th>9</th>\n",
              "      <td>Putin is reportedly looking to expand Russia's...</td>\n",
              "      <td>1</td>\n",
              "      <td>putin reportedli look expand russia presenc af...</td>\n",
              "    </tr>\n",
              "  </tbody>\n",
              "</table>\n",
              "</div>"
            ],
            "text/plain": [
              "                                          Tweet Text  ...                                        Clean Tweet\n",
              "2  HaHaHaHa Vladimir Putin You GO Boy @KremlinRus...  ...  hahahaha vladimir putin you boy kremlinrussia ...\n",
              "5  Putin’s “vaccine” must be the reason Donny has...  ...  putin vaccin must the reason donni ha been sur...\n",
              "6  Most embarrassing use of The Oval Office EVER!...  ...  most embarrass use the oval offic ever well ex...\n",
              "8  Vladimir Putin: Donald Trump vs Vladimir Putin...  ...  vladimir putin donald trump vladimir putin vac...\n",
              "9  Putin is reportedly looking to expand Russia's...  ...  putin reportedli look expand russia presenc af...\n",
              "\n",
              "[5 rows x 3 columns]"
            ]
          },
          "metadata": {
            "tags": []
          },
          "execution_count": 11
        }
      ]
    },
    {
      "cell_type": "markdown",
      "metadata": {
        "id": "6U0bRuJx6xzn",
        "colab_type": "text"
      },
      "source": [
        "## Ingeniería de características en análisis de sentimientos"
      ]
    },
    {
      "cell_type": "markdown",
      "metadata": {
        "id": "CpsEleO79cic",
        "colab_type": "text"
      },
      "source": [
        "9. Por cada string de un tweet, se le realizará ingeniería de características (Feature Engineering), que es un proceso de se genera caracteristicas adicionales a un tema, de tal manera de mejorar su estudio\n",
        "> En análisis de sentimientos consideraremos las siguientes características adicionales:\n",
        "> <br> <b>Tamaño de la cadena</b>\n",
        "> <br> <b>Cantidad de palabras largas en la cadena</b>\n",
        "> <br> <b>Cantidad de palabras cortas en la cadena</b>\n",
        "\n"
      ]
    },
    {
      "cell_type": "code",
      "metadata": {
        "id": "1vLPfbJNT9ny",
        "colab_type": "code",
        "colab": {}
      },
      "source": [
        "pos_neg_df['Lenght'] = pos_neg_df['Tweet Text'].apply(lambda x : len(x) - x.count(\" \"))\n",
        "pos_neg_df['Long Number'] = pos_neg_df['Tweet Text'].apply(lambda x : len(re.findall('\\d{7,}',x)))\n",
        "pos_neg_df['Short Number'] = pos_neg_df['Tweet Text'].apply(lambda x : len(re.findall('\\d{4,6}',x)))"
      ],
      "execution_count": 12,
      "outputs": []
    },
    {
      "cell_type": "markdown",
      "metadata": {
        "id": "MGrKCsdsAnSN",
        "colab_type": "text"
      },
      "source": [
        "> Otra caracteristica también es la ponderación o porcentaje de sentimiento en el tweet dado por los signos de puntuación\n",
        "> <br>\n",
        "> <b>Punctuation</b> hace referencia a dicha ponderación"
      ]
    },
    {
      "cell_type": "code",
      "metadata": {
        "id": "opsUwTLiU_cl",
        "colab_type": "code",
        "colab": {}
      },
      "source": [
        "#De la libreria string, calculamos la ponderación de sentimiento agregado\n",
        "#Esto se saca buscando en cada palabra del tweet, el count vendría a ser las veces de un simbolo encontrado en el texto\n",
        "#Luego se lo promedia con la cantidad de palabras totales, excepto los whitespaces.\n",
        "import string\n",
        "def count_punct (text):\n",
        "    count = sum([1 for x in text if x in string.punctuation])\n",
        "    pp = round(100*count/(len(text)-text.count(\" \")),3)\n",
        "    return pp"
      ],
      "execution_count": 13,
      "outputs": []
    },
    {
      "cell_type": "code",
      "metadata": {
        "id": "xi2YpBPVVBTS",
        "colab_type": "code",
        "colab": {}
      },
      "source": [
        "#Aplicamos la función anterior al Tweet original (no al Tweet limpio)\n",
        "pos_neg_df['Punctuation'] = pos_neg_df['Tweet Text'].apply(lambda x : count_punct(x))"
      ],
      "execution_count": 14,
      "outputs": []
    },
    {
      "cell_type": "markdown",
      "metadata": {
        "id": "vZA3iGj8Bj69",
        "colab_type": "text"
      },
      "source": [
        "> Otra caracteristica también es si algún tweet invoca a alguna pagina web, de tal manera que dicha web tenga alguna relación con el tema estudiado por el caso\n",
        "> <br>\n",
        "> <b>Website</b> hace referencia a dicho descubrimiento"
      ]
    },
    {
      "cell_type": "code",
      "metadata": {
        "id": "YaRy9FXAVPVb",
        "colab_type": "code",
        "colab": {}
      },
      "source": [
        "#Creamos la función que analizará el tweet original (no el tweet limpio) y buscará algun indicio de que el mensaje incluye algun link\n",
        "#Si es asi, con un booleano determinamos si es verdadero o falso, este dato lo usaremos para la parte de visualización y modelos\n",
        "def website(text):\n",
        "    if (len(re.findall('www|http|com|\\.co',text))>0):\n",
        "        return 1\n",
        "    else:\n",
        "        return 0"
      ],
      "execution_count": 15,
      "outputs": []
    },
    {
      "cell_type": "code",
      "metadata": {
        "id": "I5OqCGEkVSrc",
        "colab_type": "code",
        "colab": {
          "base_uri": "https://localhost:8080/",
          "height": 546
        },
        "outputId": "658463d0-edfe-4cca-8c95-158ee5298c40"
      },
      "source": [
        "#Aplicamos la funcion web anterior a nuestro dataframe\n",
        "pos_neg_df['WebSite'] = pos_neg_df['Tweet Text'].apply(lambda x : website(x))\n",
        "pos_neg_df.head(10)"
      ],
      "execution_count": 16,
      "outputs": [
        {
          "output_type": "execute_result",
          "data": {
            "text/html": [
              "<div>\n",
              "<style scoped>\n",
              "    .dataframe tbody tr th:only-of-type {\n",
              "        vertical-align: middle;\n",
              "    }\n",
              "\n",
              "    .dataframe tbody tr th {\n",
              "        vertical-align: top;\n",
              "    }\n",
              "\n",
              "    .dataframe thead th {\n",
              "        text-align: right;\n",
              "    }\n",
              "</style>\n",
              "<table border=\"1\" class=\"dataframe\">\n",
              "  <thead>\n",
              "    <tr style=\"text-align: right;\">\n",
              "      <th></th>\n",
              "      <th>Tweet Text</th>\n",
              "      <th>Label</th>\n",
              "      <th>Clean Tweet</th>\n",
              "      <th>Lenght</th>\n",
              "      <th>Long Number</th>\n",
              "      <th>Short Number</th>\n",
              "      <th>Punctuation</th>\n",
              "      <th>WebSite</th>\n",
              "    </tr>\n",
              "  </thead>\n",
              "  <tbody>\n",
              "    <tr>\n",
              "      <th>2</th>\n",
              "      <td>HaHaHaHa Vladimir Putin You GO Boy @KremlinRus...</td>\n",
              "      <td>1</td>\n",
              "      <td>hahahaha vladimir putin you boy kremlinrussia ...</td>\n",
              "      <td>292</td>\n",
              "      <td>0</td>\n",
              "      <td>0</td>\n",
              "      <td>5.137</td>\n",
              "      <td>0</td>\n",
              "    </tr>\n",
              "    <tr>\n",
              "      <th>5</th>\n",
              "      <td>Putin’s “vaccine” must be the reason Donny has...</td>\n",
              "      <td>1</td>\n",
              "      <td>putin vaccin must the reason donni ha been sur...</td>\n",
              "      <td>186</td>\n",
              "      <td>0</td>\n",
              "      <td>2</td>\n",
              "      <td>9.677</td>\n",
              "      <td>0</td>\n",
              "    </tr>\n",
              "    <tr>\n",
              "      <th>6</th>\n",
              "      <td>Most embarrassing use of The Oval Office EVER!...</td>\n",
              "      <td>1</td>\n",
              "      <td>most embarrass use the oval offic ever well ex...</td>\n",
              "      <td>121</td>\n",
              "      <td>0</td>\n",
              "      <td>0</td>\n",
              "      <td>3.306</td>\n",
              "      <td>0</td>\n",
              "    </tr>\n",
              "    <tr>\n",
              "      <th>8</th>\n",
              "      <td>Vladimir Putin: Donald Trump vs Vladimir Putin...</td>\n",
              "      <td>1</td>\n",
              "      <td>vladimir putin donald trump vladimir putin vac...</td>\n",
              "      <td>80</td>\n",
              "      <td>0</td>\n",
              "      <td>0</td>\n",
              "      <td>3.750</td>\n",
              "      <td>0</td>\n",
              "    </tr>\n",
              "    <tr>\n",
              "      <th>9</th>\n",
              "      <td>Putin is reportedly looking to expand Russia's...</td>\n",
              "      <td>1</td>\n",
              "      <td>putin reportedli look expand russia presenc af...</td>\n",
              "      <td>137</td>\n",
              "      <td>0</td>\n",
              "      <td>0</td>\n",
              "      <td>4.380</td>\n",
              "      <td>0</td>\n",
              "    </tr>\n",
              "    <tr>\n",
              "      <th>10</th>\n",
              "      <td>CNN and MSNBC keep it up ! Traitor trump and P...</td>\n",
              "      <td>1</td>\n",
              "      <td>cnn and msnbc keep traitor trump and putin gop...</td>\n",
              "      <td>184</td>\n",
              "      <td>0</td>\n",
              "      <td>0</td>\n",
              "      <td>3.261</td>\n",
              "      <td>0</td>\n",
              "    </tr>\n",
              "    <tr>\n",
              "      <th>12</th>\n",
              "      <td>Kamala should bring Pence a gift. Like Putin g...</td>\n",
              "      <td>1</td>\n",
              "      <td>kamala should bring penc gift like putin gave ...</td>\n",
              "      <td>325</td>\n",
              "      <td>0</td>\n",
              "      <td>3</td>\n",
              "      <td>4.000</td>\n",
              "      <td>0</td>\n",
              "    </tr>\n",
              "    <tr>\n",
              "      <th>13</th>\n",
              "      <td>#Putin is well aware of the essential #implica...</td>\n",
              "      <td>1</td>\n",
              "      <td>putin well awar the essenti implic success cov...</td>\n",
              "      <td>324</td>\n",
              "      <td>0</td>\n",
              "      <td>0</td>\n",
              "      <td>9.259</td>\n",
              "      <td>0</td>\n",
              "    </tr>\n",
              "    <tr>\n",
              "      <th>14</th>\n",
              "      <td>More Deficit, @realDonaldTrump is just Bankrup...</td>\n",
              "      <td>1</td>\n",
              "      <td>more deficit realdonaldtrump just bankrupt the...</td>\n",
              "      <td>258</td>\n",
              "      <td>0</td>\n",
              "      <td>0</td>\n",
              "      <td>3.876</td>\n",
              "      <td>1</td>\n",
              "    </tr>\n",
              "    <tr>\n",
              "      <th>15</th>\n",
              "      <td>Of all state employees, the police, law enforc...</td>\n",
              "      <td>0</td>\n",
              "      <td>all state employe the polic law enforc agenc a...</td>\n",
              "      <td>180</td>\n",
              "      <td>0</td>\n",
              "      <td>0</td>\n",
              "      <td>4.444</td>\n",
              "      <td>0</td>\n",
              "    </tr>\n",
              "  </tbody>\n",
              "</table>\n",
              "</div>"
            ],
            "text/plain": [
              "                                           Tweet Text  ...  WebSite\n",
              "2   HaHaHaHa Vladimir Putin You GO Boy @KremlinRus...  ...        0\n",
              "5   Putin’s “vaccine” must be the reason Donny has...  ...        0\n",
              "6   Most embarrassing use of The Oval Office EVER!...  ...        0\n",
              "8   Vladimir Putin: Donald Trump vs Vladimir Putin...  ...        0\n",
              "9   Putin is reportedly looking to expand Russia's...  ...        0\n",
              "10  CNN and MSNBC keep it up ! Traitor trump and P...  ...        0\n",
              "12  Kamala should bring Pence a gift. Like Putin g...  ...        0\n",
              "13  #Putin is well aware of the essential #implica...  ...        0\n",
              "14  More Deficit, @realDonaldTrump is just Bankrup...  ...        1\n",
              "15  Of all state employees, the police, law enforc...  ...        0\n",
              "\n",
              "[10 rows x 8 columns]"
            ]
          },
          "metadata": {
            "tags": []
          },
          "execution_count": 16
        }
      ]
    },
    {
      "cell_type": "code",
      "metadata": {
        "id": "_Pn_bT_MV-HU",
        "colab_type": "code",
        "colab": {}
      },
      "source": [
        "#Guardamos los resultados en un nuevo dataset para el uso en la parte de visualizacion y modelos\n",
        "pos_neg_df.to_csv('vacuna_dataset_preprocesado.csv', index=False)"
      ],
      "execution_count": 17,
      "outputs": []
    }
  ]
}