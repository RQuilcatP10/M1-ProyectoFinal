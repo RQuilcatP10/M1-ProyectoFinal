{
  "nbformat": 4,
  "nbformat_minor": 0,
  "metadata": {
    "colab": {
      "name": "M1ConsultasExploratorias.ipynb",
      "provenance": []
    },
    "kernelspec": {
      "name": "python3",
      "display_name": "Python 3"
    }
  },
  "cells": [
    {
      "cell_type": "markdown",
      "metadata": {
        "id": "7pTMBJkEtPqX",
        "colab_type": "text"
      },
      "source": [
        "<h1 align=\"center\"><b>Transformación y Consultas Exploratorias</b>\n",
        "<hr>"
      ]
    },
    {
      "cell_type": "markdown",
      "metadata": {
        "id": "mY0vw83Ftc63",
        "colab_type": "text"
      },
      "source": [
        "## Instalación de paquetes necesarios para la conexión a la base de datos desde Python"
      ]
    },
    {
      "cell_type": "markdown",
      "metadata": {
        "id": "PacncxMetgwO",
        "colab_type": "text"
      },
      "source": [
        "1. Instalación de instancias de Microsoft SQL Server 2017 para Linux\n",
        "> Para poder conectarnos a una base de datos alojada en SQL SERVER (Microsoft) será necesario instalar ciertos paquetes necesarios, uno de ellos es la instancia a MSSQL 2017"
      ]
    },
    {
      "cell_type": "code",
      "metadata": {
        "id": "dkGzZxJbtHT5",
        "colab_type": "code",
        "colab": {
          "base_uri": "https://localhost:8080/",
          "height": 539
        },
        "outputId": "885845cf-8a28-420b-d3e7-23a88c0aad2f"
      },
      "source": [
        "#Crear e instalar instancia de Microsoft SQL Server 2017 para Linux\n",
        "%%sh\n",
        "curl https://packages.microsoft.com/keys/microsoft.asc | apt-key add -\n",
        "curl https://packages.microsoft.com/config/ubuntu/16.04/prod.list > /etc/apt/sources.list.d/mssql-release.list\n",
        "sudo apt-get update\n",
        "sudo ACCEPT_EULA=Y apt-get -q -y install msodbcsql17"
      ],
      "execution_count": 5,
      "outputs": [
        {
          "output_type": "stream",
          "text": [
            "OK\n",
            "Hit:1 https://packages.microsoft.com/ubuntu/16.04/prod xenial InRelease\n",
            "Ign:2 https://developer.download.nvidia.com/compute/cuda/repos/ubuntu1804/x86_64  InRelease\n",
            "Hit:3 https://cloud.r-project.org/bin/linux/ubuntu bionic-cran35/ InRelease\n",
            "Hit:4 http://security.ubuntu.com/ubuntu bionic-security InRelease\n",
            "Hit:5 http://ppa.launchpad.net/graphics-drivers/ppa/ubuntu bionic InRelease\n",
            "Ign:6 https://developer.download.nvidia.com/compute/machine-learning/repos/ubuntu1804/x86_64  InRelease\n",
            "Hit:7 http://archive.ubuntu.com/ubuntu bionic InRelease\n",
            "Hit:8 https://developer.download.nvidia.com/compute/cuda/repos/ubuntu1804/x86_64  Release\n",
            "Hit:9 https://developer.download.nvidia.com/compute/machine-learning/repos/ubuntu1804/x86_64  Release\n",
            "Hit:10 http://archive.ubuntu.com/ubuntu bionic-updates InRelease\n",
            "Hit:11 http://ppa.launchpad.net/marutter/c2d4u3.5/ubuntu bionic InRelease\n",
            "Hit:12 http://archive.ubuntu.com/ubuntu bionic-backports InRelease\n",
            "Reading package lists...\n",
            "Reading package lists...\n",
            "Building dependency tree...\n",
            "Reading state information...\n",
            "msodbcsql17 is already the newest version (17.6.1.1-1).\n",
            "The following package was automatically installed and is no longer required:\n",
            "  libnvidia-common-440\n",
            "Use 'sudo apt autoremove' to remove it.\n",
            "0 upgraded, 0 newly installed, 0 to remove and 54 not upgraded.\n"
          ],
          "name": "stdout"
        },
        {
          "output_type": "stream",
          "text": [
            "  % Total    % Received % Xferd  Average Speed   Time    Time     Time  Current\n",
            "                                 Dload  Upload   Total   Spent    Left  Speed\n",
            "\r  0     0    0     0    0     0      0      0 --:--:-- --:--:-- --:--:--     0Warning: apt-key output should not be parsed (stdout is not a terminal)\n",
            "\r100   983  100   983    0     0   7281      0 --:--:-- --:--:-- --:--:--  7281\n",
            "  % Total    % Received % Xferd  Average Speed   Time    Time     Time  Current\n",
            "                                 Dload  Upload   Total   Spent    Left  Speed\n",
            "\r  0     0    0     0    0     0      0      0 --:--:-- --:--:-- --:--:--     0\r100    79  100    79    0     0   1082      0 --:--:-- --:--:-- --:--:--  1097\n"
          ],
          "name": "stderr"
        }
      ]
    },
    {
      "cell_type": "markdown",
      "metadata": {
        "id": "Pkr47Kfstp39",
        "colab_type": "text"
      },
      "source": [
        "2. Añadiendo paquetes ODBC para poder realizar las conexiones a la base de datos\n",
        "> Este paquete nos permite crear una implementación de Open DataBases en Linux, de tal manera que nos podremos conectar a cualquier instancia de base de datos en cualquier servidor"
      ]
    },
    {
      "cell_type": "code",
      "metadata": {
        "id": "BUvizjK9tquq",
        "colab_type": "code",
        "colab": {
          "base_uri": "https://localhost:8080/",
          "height": 161
        },
        "outputId": "018aa256-da9d-4996-a482-a33fa2c32119"
      },
      "source": [
        "# Añadir paquetes de ODBC para Linux\n",
        "!sudo apt-get install unixodbc-dev"
      ],
      "execution_count": 6,
      "outputs": [
        {
          "output_type": "stream",
          "text": [
            "Reading package lists... Done\n",
            "Building dependency tree       \n",
            "Reading state information... Done\n",
            "unixodbc-dev is already the newest version (2.3.7).\n",
            "The following package was automatically installed and is no longer required:\n",
            "  libnvidia-common-440\n",
            "Use 'sudo apt autoremove' to remove it.\n",
            "0 upgraded, 0 newly installed, 0 to remove and 54 not upgraded.\n"
          ],
          "name": "stdout"
        }
      ]
    },
    {
      "cell_type": "markdown",
      "metadata": {
        "id": "1FdyoDmmtwVK",
        "colab_type": "text"
      },
      "source": [
        "3. Instalación del paquete PYODBC\n",
        "> Este paquete nos permitirá crear una instancia a la base de datos, además de permitirnos usar los objetos Cursor, para poder realizar consultas, inserciones, eliminaciones, actualizaciones, a cualquier tabla, desde el notebook con Python."
      ]
    },
    {
      "cell_type": "code",
      "metadata": {
        "id": "XD0w_ONftxOH",
        "colab_type": "code",
        "colab": {
          "base_uri": "https://localhost:8080/",
          "height": 35
        },
        "outputId": "834cde95-7ac1-44c5-a67c-e3abe0439d77"
      },
      "source": [
        "# Instala el paquete de pyodbc para conectarnos y usar la base de datos desde python\n",
        "!pip install pyodbc"
      ],
      "execution_count": 7,
      "outputs": [
        {
          "output_type": "stream",
          "text": [
            "Requirement already satisfied: pyodbc in /usr/local/lib/python3.6/dist-packages (4.0.30)\n"
          ],
          "name": "stdout"
        }
      ]
    },
    {
      "cell_type": "markdown",
      "metadata": {
        "id": "azH_vysvtz2k",
        "colab_type": "text"
      },
      "source": [
        "## Conexión a la Base de Datos"
      ]
    },
    {
      "cell_type": "markdown",
      "metadata": {
        "id": "7833BWPPt2ux",
        "colab_type": "text"
      },
      "source": [
        "1. Creación de un objeto conexión y uso del objeto Cursor\n",
        "> El primer paso para realizar una conexión a la base de datos es crear un objeto pyodbc el cual hará la conexión al servidor a través de su método CONNECT, el cual recibe como parametros: El driver de la base de datos (instalada la instancia previamente), el servidor que aloja la base de datos, el nombre de la base de datos o esquema, el usuario, contraseña y puerto. "
      ]
    },
    {
      "cell_type": "code",
      "metadata": {
        "id": "PjU8ygmBt6Pc",
        "colab_type": "code",
        "colab": {}
      },
      "source": [
        "import pandas as pd\n",
        "import pyodbc\n",
        "#Es un servidor propio de Rodrigo Quilcat Pesantes en AWS\n",
        "#Por favor de no hackearlo ni hacer uso sin autorización\n",
        "conn = pyodbc.connect('DRIVER={ODBC Driver 17 for SQL Server};'\n",
        "                      'Server=m1-metropolitano.cr1mpbwkf46h.us-east-2.rds.amazonaws.com;'\n",
        "                      'Database=Mainframes;'\n",
        "                      'UID=mainframes;'\n",
        "                      'PWD=upao2020;'\n",
        "                      'TDS_Version=8.0;'\n",
        "                      'Port=1433;')\n",
        "cursor = conn.cursor()"
      ],
      "execution_count": 8,
      "outputs": []
    },
    {
      "cell_type": "markdown",
      "metadata": {
        "id": "uIeiRQTLuCzP",
        "colab_type": "text"
      },
      "source": [
        "## Consultas Exploratorias"
      ]
    },
    {
      "cell_type": "markdown",
      "metadata": {
        "id": "0MBpxrn8uFN9",
        "colab_type": "text"
      },
      "source": [
        "1. Consulta exploratoria a Tweets"
      ]
    },
    {
      "cell_type": "code",
      "metadata": {
        "id": "y0MSu_ZPt-Bb",
        "colab_type": "code",
        "colab": {
          "base_uri": "https://localhost:8080/",
          "height": 355
        },
        "outputId": "3abf52b0-4436-4556-e055-8939b577fbb4"
      },
      "source": [
        "cons_1 = pd.read_sql_query(\"SELECT TOP 10 * FROM Tweets \", conn)\n",
        "cons_1"
      ],
      "execution_count": 9,
      "outputs": [
        {
          "output_type": "execute_result",
          "data": {
            "text/html": [
              "<div>\n",
              "<style scoped>\n",
              "    .dataframe tbody tr th:only-of-type {\n",
              "        vertical-align: middle;\n",
              "    }\n",
              "\n",
              "    .dataframe tbody tr th {\n",
              "        vertical-align: top;\n",
              "    }\n",
              "\n",
              "    .dataframe thead th {\n",
              "        text-align: right;\n",
              "    }\n",
              "</style>\n",
              "<table border=\"1\" class=\"dataframe\">\n",
              "  <thead>\n",
              "    <tr style=\"text-align: right;\">\n",
              "      <th></th>\n",
              "      <th>Date_Tweet</th>\n",
              "      <th>TweetText</th>\n",
              "      <th>TweetID</th>\n",
              "      <th>ScreenName</th>\n",
              "    </tr>\n",
              "  </thead>\n",
              "  <tbody>\n",
              "    <tr>\n",
              "      <th>0</th>\n",
              "      <td>2020-08-11</td>\n",
              "      <td>Putin s daughter taking a new vaccine is as pr...</td>\n",
              "      <td>1293262667285778434</td>\n",
              "      <td>@Pagecamper1</td>\n",
              "    </tr>\n",
              "    <tr>\n",
              "      <th>1</th>\n",
              "      <td>2020-08-11</td>\n",
              "      <td>This is a Republican using the military to pan...</td>\n",
              "      <td>1293262667969449987</td>\n",
              "      <td>@DebbieNunn1234</td>\n",
              "    </tr>\n",
              "    <tr>\n",
              "      <th>2</th>\n",
              "      <td>2020-08-11</td>\n",
              "      <td>This whole thing reminds me of an episode of T...</td>\n",
              "      <td>1293262671559536640</td>\n",
              "      <td>@darthyoshiboy</td>\n",
              "    </tr>\n",
              "    <tr>\n",
              "      <th>3</th>\n",
              "      <td>2020-08-11</td>\n",
              "      <td>LyingTed knew He s just earning the money Put...</td>\n",
              "      <td>1293262673883410432</td>\n",
              "      <td>@SevereSeverus</td>\n",
              "    </tr>\n",
              "    <tr>\n",
              "      <th>4</th>\n",
              "      <td>2020-08-11</td>\n",
              "      <td>Hopefully Drumpf will and maybe sit in on a th...</td>\n",
              "      <td>1293262676597112832</td>\n",
              "      <td>@markgoo80547801</td>\n",
              "    </tr>\n",
              "    <tr>\n",
              "      <th>5</th>\n",
              "      <td>2020-08-11</td>\n",
              "      <td>Nancy Pelosi Says She Told Trump With You Mr P...</td>\n",
              "      <td>1293262698000654336</td>\n",
              "      <td>@ccokermn</td>\n",
              "    </tr>\n",
              "    <tr>\n",
              "      <th>6</th>\n",
              "      <td>2020-08-11</td>\n",
              "      <td>Russia claims st Covid Vaccine Sputnik V Putin...</td>\n",
              "      <td>1293262746931224576</td>\n",
              "      <td>@Arcane__Lost</td>\n",
              "    </tr>\n",
              "    <tr>\n",
              "      <th>7</th>\n",
              "      <td>2020-08-11</td>\n",
              "      <td>Putin with the boom Russian vaccine looks like...</td>\n",
              "      <td>1293262774496186368</td>\n",
              "      <td>@malatrix63</td>\n",
              "    </tr>\n",
              "    <tr>\n",
              "      <th>8</th>\n",
              "      <td>2020-08-11</td>\n",
              "      <td>Humpty Drumpfy promised a wall Humpty Drumpfy ...</td>\n",
              "      <td>1293262783753015296</td>\n",
              "      <td>@4n3n2n1</td>\n",
              "    </tr>\n",
              "    <tr>\n",
              "      <th>9</th>\n",
              "      <td>2020-08-11</td>\n",
              "      <td>How did Russia become the first country to get...</td>\n",
              "      <td>1293262794029240321</td>\n",
              "      <td>@VDubese</td>\n",
              "    </tr>\n",
              "  </tbody>\n",
              "</table>\n",
              "</div>"
            ],
            "text/plain": [
              "   Date_Tweet  ...        ScreenName\n",
              "0  2020-08-11  ...      @Pagecamper1\n",
              "1  2020-08-11  ...   @DebbieNunn1234\n",
              "2  2020-08-11  ...    @darthyoshiboy\n",
              "3  2020-08-11  ...    @SevereSeverus\n",
              "4  2020-08-11  ...  @markgoo80547801\n",
              "5  2020-08-11  ...         @ccokermn\n",
              "6  2020-08-11  ...     @Arcane__Lost\n",
              "7  2020-08-11  ...       @malatrix63\n",
              "8  2020-08-11  ...          @4n3n2n1\n",
              "9  2020-08-11  ...          @VDubese\n",
              "\n",
              "[10 rows x 4 columns]"
            ]
          },
          "metadata": {
            "tags": []
          },
          "execution_count": 9
        }
      ]
    },
    {
      "cell_type": "markdown",
      "metadata": {
        "id": "Y1t-Rjb5u4ah",
        "colab_type": "text"
      },
      "source": [
        "2. Consulta exploratoria a Usuarios"
      ]
    },
    {
      "cell_type": "code",
      "metadata": {
        "id": "uv6vntBtuSTB",
        "colab_type": "code",
        "colab": {
          "base_uri": "https://localhost:8080/",
          "height": 355
        },
        "outputId": "ce378427-ba37-4b58-b53d-31e904c6f2fe"
      },
      "source": [
        "cons_2 = pd.read_sql_query(\"SELECT TOP 10 * FROM Usuarios\", conn)\n",
        "cons_2"
      ],
      "execution_count": 10,
      "outputs": [
        {
          "output_type": "execute_result",
          "data": {
            "text/html": [
              "<div>\n",
              "<style scoped>\n",
              "    .dataframe tbody tr th:only-of-type {\n",
              "        vertical-align: middle;\n",
              "    }\n",
              "\n",
              "    .dataframe tbody tr th {\n",
              "        vertical-align: top;\n",
              "    }\n",
              "\n",
              "    .dataframe thead th {\n",
              "        text-align: right;\n",
              "    }\n",
              "</style>\n",
              "<table border=\"1\" class=\"dataframe\">\n",
              "  <thead>\n",
              "    <tr style=\"text-align: right;\">\n",
              "      <th></th>\n",
              "      <th>ScreenName</th>\n",
              "      <th>FullName</th>\n",
              "    </tr>\n",
              "  </thead>\n",
              "  <tbody>\n",
              "    <tr>\n",
              "      <th>0</th>\n",
              "      <td>@__imritik</td>\n",
              "      <td>Ritikkrm</td>\n",
              "    </tr>\n",
              "    <tr>\n",
              "      <th>1</th>\n",
              "      <td>@_1_last_1</td>\n",
              "      <td>Binod</td>\n",
              "    </tr>\n",
              "    <tr>\n",
              "      <th>2</th>\n",
              "      <td>@_abdul_hadi_1</td>\n",
              "      <td>Abdul hadi</td>\n",
              "    </tr>\n",
              "    <tr>\n",
              "      <th>3</th>\n",
              "      <td>@_BeHuda</td>\n",
              "      <td>MaalKin­ƒìü</td>\n",
              "    </tr>\n",
              "    <tr>\n",
              "      <th>4</th>\n",
              "      <td>@_dhays2</td>\n",
              "      <td>D. Hays</td>\n",
              "    </tr>\n",
              "    <tr>\n",
              "      <th>5</th>\n",
              "      <td>@_DPSingh</td>\n",
              "      <td>DPS</td>\n",
              "    </tr>\n",
              "    <tr>\n",
              "      <th>6</th>\n",
              "      <td>@_dtg_84__</td>\n",
              "      <td>dg2k20</td>\n",
              "    </tr>\n",
              "    <tr>\n",
              "      <th>7</th>\n",
              "      <td>@_javeri_</td>\n",
              "      <td>Kaveri</td>\n",
              "    </tr>\n",
              "    <tr>\n",
              "      <th>8</th>\n",
              "      <td>@_kash_v</td>\n",
              "      <td>Optimus Sub-Prime: Debtcepticon</td>\n",
              "    </tr>\n",
              "    <tr>\n",
              "      <th>9</th>\n",
              "      <td>@_m396</td>\n",
              "      <td>Mel...</td>\n",
              "    </tr>\n",
              "  </tbody>\n",
              "</table>\n",
              "</div>"
            ],
            "text/plain": [
              "       ScreenName                         FullName\n",
              "0      @__imritik                         Ritikkrm\n",
              "1      @_1_last_1                            Binod\n",
              "2  @_abdul_hadi_1                       Abdul hadi\n",
              "3        @_BeHuda                      MaalKin­ƒìü\n",
              "4        @_dhays2                          D. Hays\n",
              "5       @_DPSingh                              DPS\n",
              "6      @_dtg_84__                           dg2k20\n",
              "7       @_javeri_                           Kaveri\n",
              "8        @_kash_v  Optimus Sub-Prime: Debtcepticon\n",
              "9          @_m396                           Mel..."
            ]
          },
          "metadata": {
            "tags": []
          },
          "execution_count": 10
        }
      ]
    },
    {
      "cell_type": "markdown",
      "metadata": {
        "id": "EJ-w5iJgu6kF",
        "colab_type": "text"
      },
      "source": [
        "3. Consulta exploratoria al detalle de usuario"
      ]
    },
    {
      "cell_type": "code",
      "metadata": {
        "id": "mFAvU63fuSxA",
        "colab_type": "code",
        "colab": {
          "base_uri": "https://localhost:8080/",
          "height": 355
        },
        "outputId": "74da8552-1fcd-4f18-9a8f-549e482d557d"
      },
      "source": [
        "cons_3 = pd.read_sql_query(\"SELECT TOP 10 * FROM Usuarios_Detalle\", conn)\n",
        "cons_3"
      ],
      "execution_count": 11,
      "outputs": [
        {
          "output_type": "execute_result",
          "data": {
            "text/html": [
              "<div>\n",
              "<style scoped>\n",
              "    .dataframe tbody tr th:only-of-type {\n",
              "        vertical-align: middle;\n",
              "    }\n",
              "\n",
              "    .dataframe tbody tr th {\n",
              "        vertical-align: top;\n",
              "    }\n",
              "\n",
              "    .dataframe thead th {\n",
              "        text-align: right;\n",
              "    }\n",
              "</style>\n",
              "<table border=\"1\" class=\"dataframe\">\n",
              "  <thead>\n",
              "    <tr style=\"text-align: right;\">\n",
              "      <th></th>\n",
              "      <th>ScreenName</th>\n",
              "      <th>Followers</th>\n",
              "      <th>Follows</th>\n",
              "      <th>UserSince</th>\n",
              "      <th>Location</th>\n",
              "      <th>Bio</th>\n",
              "    </tr>\n",
              "  </thead>\n",
              "  <tbody>\n",
              "    <tr>\n",
              "      <th>0</th>\n",
              "      <td>@geometryfan</td>\n",
              "      <td>502</td>\n",
              "      <td>1981</td>\n",
              "      <td>2011-08-05</td>\n",
              "      <td>here</td>\n",
              "      <td>None</td>\n",
              "    </tr>\n",
              "    <tr>\n",
              "      <th>1</th>\n",
              "      <td>@kz1300a4_lee</td>\n",
              "      <td>193</td>\n",
              "      <td>329</td>\n",
              "      <td>2014-11-27</td>\n",
              "      <td>Massachusetts, USA</td>\n",
              "      <td>None</td>\n",
              "    </tr>\n",
              "    <tr>\n",
              "      <th>2</th>\n",
              "      <td>@PrincessBibiRF_</td>\n",
              "      <td>11249</td>\n",
              "      <td>12527</td>\n",
              "      <td>2015-10-19</td>\n",
              "      <td>None</td>\n",
              "      <td>International Buyer with Patents, Business, Ma...</td>\n",
              "    </tr>\n",
              "    <tr>\n",
              "      <th>3</th>\n",
              "      <td>@assouu___</td>\n",
              "      <td>465</td>\n",
              "      <td>414</td>\n",
              "      <td>2019-11-06</td>\n",
              "      <td>Val-d'Oise, Ile-de-France</td>\n",
              "      <td>Je sais qui sont les fakes.21 yr­ƒÄé</td>\n",
              "    </tr>\n",
              "    <tr>\n",
              "      <th>4</th>\n",
              "      <td>@AnthonyAggie17</td>\n",
              "      <td>240</td>\n",
              "      <td>319</td>\n",
              "      <td>2011-06-28</td>\n",
              "      <td>Colorado Springs</td>\n",
              "      <td>FTA Class of 2017 | Army Engineer | Married up...</td>\n",
              "    </tr>\n",
              "    <tr>\n",
              "      <th>5</th>\n",
              "      <td>@CoastalCndn</td>\n",
              "      <td>3373</td>\n",
              "      <td>4328</td>\n",
              "      <td>2011-06-12</td>\n",
              "      <td>None</td>\n",
              "      <td>Atheist ­ƒç¿­ƒçª #AdoptDontShop I was a much n...</td>\n",
              "    </tr>\n",
              "    <tr>\n",
              "      <th>6</th>\n",
              "      <td>@surge4earth</td>\n",
              "      <td>418</td>\n",
              "      <td>368</td>\n",
              "      <td>2017-09-08</td>\n",
              "      <td>Maryland, USA</td>\n",
              "      <td>ÔÜí4 ­ƒîÄ Major tree hugger­ƒî¦, nonliberal de...</td>\n",
              "    </tr>\n",
              "    <tr>\n",
              "      <th>7</th>\n",
              "      <td>@lynsnyds1</td>\n",
              "      <td>69</td>\n",
              "      <td>201</td>\n",
              "      <td>2017-11-26</td>\n",
              "      <td>Macon, GA</td>\n",
              "      <td>Retired nurse, veteran, wife, mother and Grand...</td>\n",
              "    </tr>\n",
              "    <tr>\n",
              "      <th>8</th>\n",
              "      <td>@Midge150</td>\n",
              "      <td>1494</td>\n",
              "      <td>4475</td>\n",
              "      <td>2008-11-16</td>\n",
              "      <td>Los Angeles, CA</td>\n",
              "      <td>Fabulous! From Ireland ­ƒç«­ƒç¬ American Citiz...</td>\n",
              "    </tr>\n",
              "    <tr>\n",
              "      <th>9</th>\n",
              "      <td>@the_sailor_dog</td>\n",
              "      <td>2333</td>\n",
              "      <td>877</td>\n",
              "      <td>2013-11-11</td>\n",
              "      <td>Honolulu, HI</td>\n",
              "      <td>Naval Strategist, I embrace the maritime domai...</td>\n",
              "    </tr>\n",
              "  </tbody>\n",
              "</table>\n",
              "</div>"
            ],
            "text/plain": [
              "         ScreenName  ...                                                Bio\n",
              "0      @geometryfan  ...                                               None\n",
              "1     @kz1300a4_lee  ...                                               None\n",
              "2  @PrincessBibiRF_  ...  International Buyer with Patents, Business, Ma...\n",
              "3        @assouu___  ...               Je sais qui sont les fakes.21 yr­ƒÄé\n",
              "4   @AnthonyAggie17  ...  FTA Class of 2017 | Army Engineer | Married up...\n",
              "5      @CoastalCndn  ...  Atheist ­ƒç¿­ƒçª #AdoptDontShop I was a much n...\n",
              "6      @surge4earth  ...  ÔÜí4 ­ƒîÄ Major tree hugger­ƒî¦, nonliberal de...\n",
              "7        @lynsnyds1  ...  Retired nurse, veteran, wife, mother and Grand...\n",
              "8         @Midge150  ...  Fabulous! From Ireland ­ƒç«­ƒç¬ American Citiz...\n",
              "9   @the_sailor_dog  ...  Naval Strategist, I embrace the maritime domai...\n",
              "\n",
              "[10 rows x 6 columns]"
            ]
          },
          "metadata": {
            "tags": []
          },
          "execution_count": 11
        }
      ]
    },
    {
      "cell_type": "markdown",
      "metadata": {
        "id": "IczHq-DqvA_A",
        "colab_type": "text"
      },
      "source": [
        "4. Consulta exploratoria al detalle de tweets"
      ]
    },
    {
      "cell_type": "code",
      "metadata": {
        "id": "akbzUR6WuTJk",
        "colab_type": "code",
        "colab": {
          "base_uri": "https://localhost:8080/",
          "height": 355
        },
        "outputId": "21d075d1-d5e3-440d-ee5a-cbdb5626ecd9"
      },
      "source": [
        "cons_4 = pd.read_sql_query(\"SELECT TOP 10 * FROM Tweets_Detalle\", conn)\n",
        "cons_4"
      ],
      "execution_count": 12,
      "outputs": [
        {
          "output_type": "execute_result",
          "data": {
            "text/html": [
              "<div>\n",
              "<style scoped>\n",
              "    .dataframe tbody tr th:only-of-type {\n",
              "        vertical-align: middle;\n",
              "    }\n",
              "\n",
              "    .dataframe tbody tr th {\n",
              "        vertical-align: top;\n",
              "    }\n",
              "\n",
              "    .dataframe thead th {\n",
              "        text-align: right;\n",
              "    }\n",
              "</style>\n",
              "<table border=\"1\" class=\"dataframe\">\n",
              "  <thead>\n",
              "    <tr style=\"text-align: right;\">\n",
              "      <th></th>\n",
              "      <th>TweetID</th>\n",
              "      <th>Retweets</th>\n",
              "      <th>Favorites</th>\n",
              "      <th>App</th>\n",
              "    </tr>\n",
              "  </thead>\n",
              "  <tbody>\n",
              "    <tr>\n",
              "      <th>0</th>\n",
              "      <td>1293673804787593216</td>\n",
              "      <td>0</td>\n",
              "      <td>0</td>\n",
              "      <td>Twitter for iPad</td>\n",
              "    </tr>\n",
              "    <tr>\n",
              "      <th>1</th>\n",
              "      <td>1293673783165882374</td>\n",
              "      <td>0</td>\n",
              "      <td>0</td>\n",
              "      <td>Twitter Web App</td>\n",
              "    </tr>\n",
              "    <tr>\n",
              "      <th>2</th>\n",
              "      <td>1293673750408433667</td>\n",
              "      <td>1</td>\n",
              "      <td>1</td>\n",
              "      <td>Twitter Web App</td>\n",
              "    </tr>\n",
              "    <tr>\n",
              "      <th>3</th>\n",
              "      <td>1293673745148764160</td>\n",
              "      <td>0</td>\n",
              "      <td>0</td>\n",
              "      <td>Twitter for iPhone</td>\n",
              "    </tr>\n",
              "    <tr>\n",
              "      <th>4</th>\n",
              "      <td>1293673669236002819</td>\n",
              "      <td>0</td>\n",
              "      <td>0</td>\n",
              "      <td>Twitter for Android</td>\n",
              "    </tr>\n",
              "    <tr>\n",
              "      <th>5</th>\n",
              "      <td>1293673516512899072</td>\n",
              "      <td>0</td>\n",
              "      <td>0</td>\n",
              "      <td>Twitter Web App</td>\n",
              "    </tr>\n",
              "    <tr>\n",
              "      <th>6</th>\n",
              "      <td>1293673491737313281</td>\n",
              "      <td>0</td>\n",
              "      <td>0</td>\n",
              "      <td>Twitter for Android</td>\n",
              "    </tr>\n",
              "    <tr>\n",
              "      <th>7</th>\n",
              "      <td>1293673475962548234</td>\n",
              "      <td>0</td>\n",
              "      <td>0</td>\n",
              "      <td>Twitter for iPhone</td>\n",
              "    </tr>\n",
              "    <tr>\n",
              "      <th>8</th>\n",
              "      <td>1293673431657902080</td>\n",
              "      <td>0</td>\n",
              "      <td>0</td>\n",
              "      <td>Twitter for iPhone</td>\n",
              "    </tr>\n",
              "    <tr>\n",
              "      <th>9</th>\n",
              "      <td>1293673417690898432</td>\n",
              "      <td>0</td>\n",
              "      <td>0</td>\n",
              "      <td>Twitter Web App</td>\n",
              "    </tr>\n",
              "  </tbody>\n",
              "</table>\n",
              "</div>"
            ],
            "text/plain": [
              "               TweetID  Retweets  Favorites                  App\n",
              "0  1293673804787593216         0          0     Twitter for iPad\n",
              "1  1293673783165882374         0          0      Twitter Web App\n",
              "2  1293673750408433667         1          1      Twitter Web App\n",
              "3  1293673745148764160         0          0   Twitter for iPhone\n",
              "4  1293673669236002819         0          0  Twitter for Android\n",
              "5  1293673516512899072         0          0      Twitter Web App\n",
              "6  1293673491737313281         0          0  Twitter for Android\n",
              "7  1293673475962548234         0          0   Twitter for iPhone\n",
              "8  1293673431657902080         0          0   Twitter for iPhone\n",
              "9  1293673417690898432         0          0      Twitter Web App"
            ]
          },
          "metadata": {
            "tags": []
          },
          "execution_count": 12
        }
      ]
    },
    {
      "cell_type": "markdown",
      "metadata": {
        "id": "I-9SFN1HvGx_",
        "colab_type": "text"
      },
      "source": [
        "5. Seleccionar el detalle de un Usuario especifico"
      ]
    },
    {
      "cell_type": "code",
      "metadata": {
        "id": "rAO2WoaxuTyJ",
        "colab_type": "code",
        "colab": {
          "base_uri": "https://localhost:8080/",
          "height": 79
        },
        "outputId": "9ebeded2-322d-4898-e136-e6a33e5b12a3"
      },
      "source": [
        "cons_5 = pd.read_sql_query(\"SELECT * FROM Usuarios_Detalle WHERE ScreenName = '@adaptiveoptics'\", conn)\n",
        "cons_5"
      ],
      "execution_count": 13,
      "outputs": [
        {
          "output_type": "execute_result",
          "data": {
            "text/html": [
              "<div>\n",
              "<style scoped>\n",
              "    .dataframe tbody tr th:only-of-type {\n",
              "        vertical-align: middle;\n",
              "    }\n",
              "\n",
              "    .dataframe tbody tr th {\n",
              "        vertical-align: top;\n",
              "    }\n",
              "\n",
              "    .dataframe thead th {\n",
              "        text-align: right;\n",
              "    }\n",
              "</style>\n",
              "<table border=\"1\" class=\"dataframe\">\n",
              "  <thead>\n",
              "    <tr style=\"text-align: right;\">\n",
              "      <th></th>\n",
              "      <th>ScreenName</th>\n",
              "      <th>Followers</th>\n",
              "      <th>Follows</th>\n",
              "      <th>UserSince</th>\n",
              "      <th>Location</th>\n",
              "      <th>Bio</th>\n",
              "    </tr>\n",
              "  </thead>\n",
              "  <tbody>\n",
              "    <tr>\n",
              "      <th>0</th>\n",
              "      <td>@adaptiveoptics</td>\n",
              "      <td>256</td>\n",
              "      <td>738</td>\n",
              "      <td>2009-10-24</td>\n",
              "      <td>Seattle, WA</td>\n",
              "      <td>Systems, writing, yoga ig:adaptiveoptics</td>\n",
              "    </tr>\n",
              "  </tbody>\n",
              "</table>\n",
              "</div>"
            ],
            "text/plain": [
              "        ScreenName  ...                                       Bio\n",
              "0  @adaptiveoptics  ...  Systems, writing, yoga ig:adaptiveoptics\n",
              "\n",
              "[1 rows x 6 columns]"
            ]
          },
          "metadata": {
            "tags": []
          },
          "execution_count": 13
        }
      ]
    },
    {
      "cell_type": "markdown",
      "metadata": {
        "id": "cMVSDXlbvMpE",
        "colab_type": "text"
      },
      "source": [
        "6. Seleccionar los tweets pertenecientes a un Usuario especifico"
      ]
    },
    {
      "cell_type": "code",
      "metadata": {
        "id": "TeQnGoBDuUEp",
        "colab_type": "code",
        "colab": {
          "base_uri": "https://localhost:8080/",
          "height": 79
        },
        "outputId": "cfd90f2a-a9a5-4035-84e4-a75c7830e0cf"
      },
      "source": [
        "cons_6 = pd.read_sql_query(\"SELECT * FROM Tweets WHERE ScreenName = '@adaptiveoptics'\", conn)\n",
        "cons_6"
      ],
      "execution_count": 14,
      "outputs": [
        {
          "output_type": "execute_result",
          "data": {
            "text/html": [
              "<div>\n",
              "<style scoped>\n",
              "    .dataframe tbody tr th:only-of-type {\n",
              "        vertical-align: middle;\n",
              "    }\n",
              "\n",
              "    .dataframe tbody tr th {\n",
              "        vertical-align: top;\n",
              "    }\n",
              "\n",
              "    .dataframe thead th {\n",
              "        text-align: right;\n",
              "    }\n",
              "</style>\n",
              "<table border=\"1\" class=\"dataframe\">\n",
              "  <thead>\n",
              "    <tr style=\"text-align: right;\">\n",
              "      <th></th>\n",
              "      <th>Date_Tweet</th>\n",
              "      <th>TweetText</th>\n",
              "      <th>TweetID</th>\n",
              "      <th>ScreenName</th>\n",
              "    </tr>\n",
              "  </thead>\n",
              "  <tbody>\n",
              "    <tr>\n",
              "      <th>0</th>\n",
              "      <td>2020-08-12</td>\n",
              "      <td>Germans are using their hatred of Trump to jus...</td>\n",
              "      <td>1293444729732907009</td>\n",
              "      <td>@adaptiveoptics</td>\n",
              "    </tr>\n",
              "  </tbody>\n",
              "</table>\n",
              "</div>"
            ],
            "text/plain": [
              "   Date_Tweet  ...       ScreenName\n",
              "0  2020-08-12  ...  @adaptiveoptics\n",
              "\n",
              "[1 rows x 4 columns]"
            ]
          },
          "metadata": {
            "tags": []
          },
          "execution_count": 14
        }
      ]
    },
    {
      "cell_type": "markdown",
      "metadata": {
        "id": "Re3T3cp8vRvu",
        "colab_type": "text"
      },
      "source": [
        "7. Ordenar Usuarios por fecha de creación"
      ]
    },
    {
      "cell_type": "code",
      "metadata": {
        "id": "NbfMKilvuUa5",
        "colab_type": "code",
        "colab": {
          "base_uri": "https://localhost:8080/",
          "height": 415
        },
        "outputId": "10bd2d6a-21d3-4a02-9213-bb038bfd30d6"
      },
      "source": [
        "cons_7 = pd.read_sql_query(\"SELECT FullName FROM Usuarios ORDER BY FullName ASC\", conn)\n",
        "cons_7"
      ],
      "execution_count": 15,
      "outputs": [
        {
          "output_type": "execute_result",
          "data": {
            "text/html": [
              "<div>\n",
              "<style scoped>\n",
              "    .dataframe tbody tr th:only-of-type {\n",
              "        vertical-align: middle;\n",
              "    }\n",
              "\n",
              "    .dataframe tbody tr th {\n",
              "        vertical-align: top;\n",
              "    }\n",
              "\n",
              "    .dataframe thead th {\n",
              "        text-align: right;\n",
              "    }\n",
              "</style>\n",
              "<table border=\"1\" class=\"dataframe\">\n",
              "  <thead>\n",
              "    <tr style=\"text-align: right;\">\n",
              "      <th></th>\n",
              "      <th>FullName</th>\n",
              "    </tr>\n",
              "  </thead>\n",
              "  <tbody>\n",
              "    <tr>\n",
              "      <th>0</th>\n",
              "      <td>\"\"\"We Are The Future\"\" Academy\"</td>\n",
              "    </tr>\n",
              "    <tr>\n",
              "      <th>1</th>\n",
              "      <td>\"alice ­ƒç¦­ƒç© \"\"All roads lead to Putin\"\" ­ƒ...</td>\n",
              "    </tr>\n",
              "    <tr>\n",
              "      <th>2</th>\n",
              "      <td>\"Black Widow­ƒç¦­ƒç©\"\"Doc\"\"­ƒç¦­ƒç©How will th...</td>\n",
              "    </tr>\n",
              "    <tr>\n",
              "      <th>3</th>\n",
              "      <td>\"Bye, BYE; HARLEY-DAVIDSON !\"</td>\n",
              "    </tr>\n",
              "    <tr>\n",
              "      <th>4</th>\n",
              "      <td>\"IrRev. Bruce Allan Ross-LLAPH \"\"An Ocean Of E...</td>\n",
              "    </tr>\n",
              "    <tr>\n",
              "      <th>...</th>\n",
              "      <td>...</td>\n",
              "    </tr>\n",
              "    <tr>\n",
              "      <th>2670</th>\n",
              "      <td>ðöð¥ð+ÐÇð¥Ðüð©ÐéðÁ ðôð¦ð+ð¦ð¦ÐÇð©Ðìð+Ðî ÔØñÔ£è...</td>\n",
              "    </tr>\n",
              "    <tr>\n",
              "      <th>2671</th>\n",
              "      <td>ðôð¥ÐÇðÁÐüÐé ðñÐèð+ð+</td>\n",
              "    </tr>\n",
              "    <tr>\n",
              "      <th>2672</th>\n",
              "      <td>ðØð¦ÐéÐàð¢ðÁð¢ð¢ÐÅ</td>\n",
              "    </tr>\n",
              "    <tr>\n",
              "      <th>2673</th>\n",
              "      <td>ðôð¦Ðìð¢ðÁÐçð¦a ­ƒç¦­ƒç©­ƒÑü</td>\n",
              "    </tr>\n",
              "    <tr>\n",
              "      <th>2674</th>\n",
              "      <td>ÞÁñÕ¦®ÒÇÇµ¦+</td>\n",
              "    </tr>\n",
              "  </tbody>\n",
              "</table>\n",
              "<p>2675 rows × 1 columns</p>\n",
              "</div>"
            ],
            "text/plain": [
              "                                               FullName\n",
              "0                       \"\"\"We Are The Future\"\" Academy\"\n",
              "1     \"alice ­ƒç¦­ƒç© \"\"All roads lead to Putin\"\" ­ƒ...\n",
              "2     \"Black Widow­ƒç¦­ƒç©\"\"Doc\"\"­ƒç¦­ƒç©How will th...\n",
              "3                         \"Bye, BYE; HARLEY-DAVIDSON !\"\n",
              "4     \"IrRev. Bruce Allan Ross-LLAPH \"\"An Ocean Of E...\n",
              "...                                                 ...\n",
              "2670  ðöð¥ð+ÐÇð¥Ðüð©ÐéðÁ ðôð¦ð+ð¦ð¦ÐÇð©Ðìð+Ðî ÔØñÔ£è...\n",
              "2671                              ðôð¥ÐÇðÁÐüÐé ðñÐèð+ð+\n",
              "2672                                 ðØð¦ÐéÐàð¢ðÁð¢ð¢ÐÅ\n",
              "2673                       ðôð¦Ðìð¢ðÁÐçð¦a ­ƒç¦­ƒç©­ƒÑü\n",
              "2674                                       ÞÁñÕ¦®ÒÇÇµ¦+\n",
              "\n",
              "[2675 rows x 1 columns]"
            ]
          },
          "metadata": {
            "tags": []
          },
          "execution_count": 15
        }
      ]
    },
    {
      "cell_type": "markdown",
      "metadata": {
        "id": "VwPClHvAvXHQ",
        "colab_type": "text"
      },
      "source": [
        "8. Ordenar Usuarios por nombres que empiecen con la letra 'A'"
      ]
    },
    {
      "cell_type": "code",
      "metadata": {
        "id": "XY1nAr9VuU63",
        "colab_type": "code",
        "colab": {
          "base_uri": "https://localhost:8080/",
          "height": 415
        },
        "outputId": "d1e03364-72d1-4fc9-b869-71bcc18df95a"
      },
      "source": [
        "cons_8 = pd.read_sql_query(\"SELECT Fullname FROM Usuarios WHERE FullName LIKE '[A]%' ORDER BY FullName ASC\", conn)\n",
        "cons_8"
      ],
      "execution_count": 16,
      "outputs": [
        {
          "output_type": "execute_result",
          "data": {
            "text/html": [
              "<div>\n",
              "<style scoped>\n",
              "    .dataframe tbody tr th:only-of-type {\n",
              "        vertical-align: middle;\n",
              "    }\n",
              "\n",
              "    .dataframe tbody tr th {\n",
              "        vertical-align: top;\n",
              "    }\n",
              "\n",
              "    .dataframe thead th {\n",
              "        text-align: right;\n",
              "    }\n",
              "</style>\n",
              "<table border=\"1\" class=\"dataframe\">\n",
              "  <thead>\n",
              "    <tr style=\"text-align: right;\">\n",
              "      <th></th>\n",
              "      <th>Fullname</th>\n",
              "    </tr>\n",
              "  </thead>\n",
              "  <tbody>\n",
              "    <tr>\n",
              "      <th>0</th>\n",
              "      <td>A de Weert</td>\n",
              "    </tr>\n",
              "    <tr>\n",
              "      <th>1</th>\n",
              "      <td>A fatal exception has occurred....</td>\n",
              "    </tr>\n",
              "    <tr>\n",
              "      <th>2</th>\n",
              "      <td>A QUESTION OF TRUST</td>\n",
              "    </tr>\n",
              "    <tr>\n",
              "      <th>3</th>\n",
              "      <td>A Rob</td>\n",
              "    </tr>\n",
              "    <tr>\n",
              "      <th>4</th>\n",
              "      <td>A Voice For Choice Advocacy</td>\n",
              "    </tr>\n",
              "    <tr>\n",
              "      <th>...</th>\n",
              "      <td>...</td>\n",
              "    </tr>\n",
              "    <tr>\n",
              "      <th>167</th>\n",
              "      <td>Aux Fronti+¿res</td>\n",
              "    </tr>\n",
              "    <tr>\n",
              "      <th>168</th>\n",
              "      <td>AWhitneyBrown</td>\n",
              "    </tr>\n",
              "    <tr>\n",
              "      <th>169</th>\n",
              "      <td>Ayanamatata ­ƒÆ£</td>\n",
              "    </tr>\n",
              "    <tr>\n",
              "      <th>170</th>\n",
              "      <td>Ayman</td>\n",
              "    </tr>\n",
              "    <tr>\n",
              "      <th>171</th>\n",
              "      <td>Azizi Anaita</td>\n",
              "    </tr>\n",
              "  </tbody>\n",
              "</table>\n",
              "<p>172 rows × 1 columns</p>\n",
              "</div>"
            ],
            "text/plain": [
              "                               Fullname\n",
              "0                            A de Weert\n",
              "1    A fatal exception has occurred....\n",
              "2                   A QUESTION OF TRUST\n",
              "3                                 A Rob\n",
              "4           A Voice For Choice Advocacy\n",
              "..                                  ...\n",
              "167                     Aux Fronti+¿res\n",
              "168                       AWhitneyBrown\n",
              "169                    Ayanamatata ­ƒÆ£\n",
              "170                               Ayman\n",
              "171                        Azizi Anaita\n",
              "\n",
              "[172 rows x 1 columns]"
            ]
          },
          "metadata": {
            "tags": []
          },
          "execution_count": 16
        }
      ]
    },
    {
      "cell_type": "markdown",
      "metadata": {
        "id": "sMC08WPTvb5d",
        "colab_type": "text"
      },
      "source": [
        "9. Exploración de cuantos usuarios tienen una cuenta sin una locación asociada"
      ]
    },
    {
      "cell_type": "code",
      "metadata": {
        "id": "7DJ8gGSvuVV5",
        "colab_type": "code",
        "colab": {
          "base_uri": "https://localhost:8080/",
          "height": 79
        },
        "outputId": "481d0dc9-495d-42e6-bb05-8f10020ae7ea"
      },
      "source": [
        "cons_9 = pd.read_sql_query(\"SELECT COUNT(*) as SinLocation FROM Usuarios_Detalle WHERE Location IS NULL\", conn)\n",
        "cons_9"
      ],
      "execution_count": 17,
      "outputs": [
        {
          "output_type": "execute_result",
          "data": {
            "text/html": [
              "<div>\n",
              "<style scoped>\n",
              "    .dataframe tbody tr th:only-of-type {\n",
              "        vertical-align: middle;\n",
              "    }\n",
              "\n",
              "    .dataframe tbody tr th {\n",
              "        vertical-align: top;\n",
              "    }\n",
              "\n",
              "    .dataframe thead th {\n",
              "        text-align: right;\n",
              "    }\n",
              "</style>\n",
              "<table border=\"1\" class=\"dataframe\">\n",
              "  <thead>\n",
              "    <tr style=\"text-align: right;\">\n",
              "      <th></th>\n",
              "      <th>SinLocation</th>\n",
              "    </tr>\n",
              "  </thead>\n",
              "  <tbody>\n",
              "    <tr>\n",
              "      <th>0</th>\n",
              "      <td>902</td>\n",
              "    </tr>\n",
              "  </tbody>\n",
              "</table>\n",
              "</div>"
            ],
            "text/plain": [
              "   SinLocation\n",
              "0          902"
            ]
          },
          "metadata": {
            "tags": []
          },
          "execution_count": 17
        }
      ]
    },
    {
      "cell_type": "markdown",
      "metadata": {
        "id": "QP2BChqZvgTL",
        "colab_type": "text"
      },
      "source": [
        "10. Seleccion de Usuario con mayor Numero de seguidores"
      ]
    },
    {
      "cell_type": "code",
      "metadata": {
        "id": "xdOXJaBQuVr-",
        "colab_type": "code",
        "colab": {
          "base_uri": "https://localhost:8080/",
          "height": 79
        },
        "outputId": "5ef29426-1cb8-4e67-8e3f-54c7aa1c449f"
      },
      "source": [
        "cons_10 = pd.read_sql_query(\"SELECT * FROM Usuarios_Detalle WHERE Followers = (SELECT MAX(Followers) FROM Usuarios_Detalle)\", conn)\n",
        "cons_10"
      ],
      "execution_count": 18,
      "outputs": [
        {
          "output_type": "execute_result",
          "data": {
            "text/html": [
              "<div>\n",
              "<style scoped>\n",
              "    .dataframe tbody tr th:only-of-type {\n",
              "        vertical-align: middle;\n",
              "    }\n",
              "\n",
              "    .dataframe tbody tr th {\n",
              "        vertical-align: top;\n",
              "    }\n",
              "\n",
              "    .dataframe thead th {\n",
              "        text-align: right;\n",
              "    }\n",
              "</style>\n",
              "<table border=\"1\" class=\"dataframe\">\n",
              "  <thead>\n",
              "    <tr style=\"text-align: right;\">\n",
              "      <th></th>\n",
              "      <th>ScreenName</th>\n",
              "      <th>Followers</th>\n",
              "      <th>Follows</th>\n",
              "      <th>UserSince</th>\n",
              "      <th>Location</th>\n",
              "      <th>Bio</th>\n",
              "    </tr>\n",
              "  </thead>\n",
              "  <tbody>\n",
              "    <tr>\n",
              "      <th>0</th>\n",
              "      <td>@CNN</td>\n",
              "      <td>49453072</td>\n",
              "      <td>1109</td>\n",
              "      <td>2007-02-08</td>\n",
              "      <td>None</td>\n",
              "      <td>ItÔÇÖs our job to #GoThere &amp; tell the most dif...</td>\n",
              "    </tr>\n",
              "  </tbody>\n",
              "</table>\n",
              "</div>"
            ],
            "text/plain": [
              "  ScreenName  ...                                                Bio\n",
              "0       @CNN  ...  ItÔÇÖs our job to #GoThere & tell the most dif...\n",
              "\n",
              "[1 rows x 6 columns]"
            ]
          },
          "metadata": {
            "tags": []
          },
          "execution_count": 18
        }
      ]
    },
    {
      "cell_type": "markdown",
      "metadata": {
        "id": "_C_DOdE2vlkF",
        "colab_type": "text"
      },
      "source": [
        "11. Seleccion de Usuarios con menor Numero de seguidores"
      ]
    },
    {
      "cell_type": "code",
      "metadata": {
        "id": "-mmpqb0BuWHd",
        "colab_type": "code",
        "colab": {
          "base_uri": "https://localhost:8080/",
          "height": 1000
        },
        "outputId": "46d25790-2160-4972-f270-5607b68ef27b"
      },
      "source": [
        "cons_11 = pd.read_sql_query(\"SELECT * FROM Usuarios_Detalle WHERE Followers = (SELECT MIN(Followers) FROM Usuarios_Detalle)\", conn)\n",
        "cons_11"
      ],
      "execution_count": 19,
      "outputs": [
        {
          "output_type": "execute_result",
          "data": {
            "text/html": [
              "<div>\n",
              "<style scoped>\n",
              "    .dataframe tbody tr th:only-of-type {\n",
              "        vertical-align: middle;\n",
              "    }\n",
              "\n",
              "    .dataframe tbody tr th {\n",
              "        vertical-align: top;\n",
              "    }\n",
              "\n",
              "    .dataframe thead th {\n",
              "        text-align: right;\n",
              "    }\n",
              "</style>\n",
              "<table border=\"1\" class=\"dataframe\">\n",
              "  <thead>\n",
              "    <tr style=\"text-align: right;\">\n",
              "      <th></th>\n",
              "      <th>ScreenName</th>\n",
              "      <th>Followers</th>\n",
              "      <th>Follows</th>\n",
              "      <th>UserSince</th>\n",
              "      <th>Location</th>\n",
              "      <th>Bio</th>\n",
              "    </tr>\n",
              "  </thead>\n",
              "  <tbody>\n",
              "    <tr>\n",
              "      <th>0</th>\n",
              "      <td>@Brandon20105199</td>\n",
              "      <td>0</td>\n",
              "      <td>8</td>\n",
              "      <td>2020-08-12</td>\n",
              "      <td>None</td>\n",
              "      <td>IÔÇÖm just a YouTuber subscribe to xdnikeman</td>\n",
              "    </tr>\n",
              "    <tr>\n",
              "      <th>1</th>\n",
              "      <td>@JamesCharlesWa7</td>\n",
              "      <td>0</td>\n",
              "      <td>7</td>\n",
              "      <td>2020-08-05</td>\n",
              "      <td>None</td>\n",
              "      <td>I am a young man who is black and who is tryin...</td>\n",
              "    </tr>\n",
              "    <tr>\n",
              "      <th>2</th>\n",
              "      <td>@Christ_Will_Iam</td>\n",
              "      <td>0</td>\n",
              "      <td>0</td>\n",
              "      <td>2017-01-17</td>\n",
              "      <td>Illinois, USA</td>\n",
              "      <td>\"I am Jesus Christ. Police/government official...</td>\n",
              "    </tr>\n",
              "    <tr>\n",
              "      <th>3</th>\n",
              "      <td>@Vincent94077438</td>\n",
              "      <td>0</td>\n",
              "      <td>0</td>\n",
              "      <td>2020-05-24</td>\n",
              "      <td>None</td>\n",
              "      <td>A Firm Believer in the Lord Jesus Christ &amp; Com...</td>\n",
              "    </tr>\n",
              "    <tr>\n",
              "      <th>4</th>\n",
              "      <td>@Vincent94077438</td>\n",
              "      <td>0</td>\n",
              "      <td>0</td>\n",
              "      <td>2020-05-24</td>\n",
              "      <td>None</td>\n",
              "      <td>A Firm Believer in the Lord Jesus Christ &amp; Com...</td>\n",
              "    </tr>\n",
              "    <tr>\n",
              "      <th>5</th>\n",
              "      <td>@Vincent94077438</td>\n",
              "      <td>0</td>\n",
              "      <td>0</td>\n",
              "      <td>2020-05-24</td>\n",
              "      <td>None</td>\n",
              "      <td>A Firm Believer in the Lord Jesus Christ &amp; Com...</td>\n",
              "    </tr>\n",
              "    <tr>\n",
              "      <th>6</th>\n",
              "      <td>@RahmanOfIndia</td>\n",
              "      <td>0</td>\n",
              "      <td>201</td>\n",
              "      <td>2020-07-06</td>\n",
              "      <td>India</td>\n",
              "      <td>After completing one mission of my life,i want...</td>\n",
              "    </tr>\n",
              "    <tr>\n",
              "      <th>7</th>\n",
              "      <td>@Stephen76948225</td>\n",
              "      <td>0</td>\n",
              "      <td>9</td>\n",
              "      <td>2020-07-27</td>\n",
              "      <td>None</td>\n",
              "      <td>None</td>\n",
              "    </tr>\n",
              "    <tr>\n",
              "      <th>8</th>\n",
              "      <td>@JSemkiv</td>\n",
              "      <td>0</td>\n",
              "      <td>1</td>\n",
              "      <td>2020-07-30</td>\n",
              "      <td>None</td>\n",
              "      <td>None</td>\n",
              "    </tr>\n",
              "    <tr>\n",
              "      <th>9</th>\n",
              "      <td>@JSemkiv</td>\n",
              "      <td>0</td>\n",
              "      <td>1</td>\n",
              "      <td>2020-07-30</td>\n",
              "      <td>None</td>\n",
              "      <td>None</td>\n",
              "    </tr>\n",
              "    <tr>\n",
              "      <th>10</th>\n",
              "      <td>@hemanttnameh</td>\n",
              "      <td>0</td>\n",
              "      <td>136</td>\n",
              "      <td>2014-03-04</td>\n",
              "      <td>Rourkela Industrial Township,</td>\n",
              "      <td>None</td>\n",
              "    </tr>\n",
              "    <tr>\n",
              "      <th>11</th>\n",
              "      <td>@JSemkiv</td>\n",
              "      <td>0</td>\n",
              "      <td>1</td>\n",
              "      <td>2020-07-30</td>\n",
              "      <td>None</td>\n",
              "      <td>None</td>\n",
              "    </tr>\n",
              "    <tr>\n",
              "      <th>12</th>\n",
              "      <td>@JSemkiv</td>\n",
              "      <td>0</td>\n",
              "      <td>1</td>\n",
              "      <td>2020-07-30</td>\n",
              "      <td>None</td>\n",
              "      <td>None</td>\n",
              "    </tr>\n",
              "    <tr>\n",
              "      <th>13</th>\n",
              "      <td>@Sm411R</td>\n",
              "      <td>0</td>\n",
              "      <td>17</td>\n",
              "      <td>2020-08-12</td>\n",
              "      <td>United States</td>\n",
              "      <td>None</td>\n",
              "    </tr>\n",
              "    <tr>\n",
              "      <th>14</th>\n",
              "      <td>@moremitmita</td>\n",
              "      <td>0</td>\n",
              "      <td>55</td>\n",
              "      <td>2020-08-12</td>\n",
              "      <td>None</td>\n",
              "      <td>None</td>\n",
              "    </tr>\n",
              "    <tr>\n",
              "      <th>15</th>\n",
              "      <td>@delusional_u</td>\n",
              "      <td>0</td>\n",
              "      <td>0</td>\n",
              "      <td>2020-06-09</td>\n",
              "      <td>None</td>\n",
              "      <td>None</td>\n",
              "    </tr>\n",
              "    <tr>\n",
              "      <th>16</th>\n",
              "      <td>@delusional_u</td>\n",
              "      <td>0</td>\n",
              "      <td>0</td>\n",
              "      <td>2020-06-09</td>\n",
              "      <td>None</td>\n",
              "      <td>None</td>\n",
              "    </tr>\n",
              "    <tr>\n",
              "      <th>17</th>\n",
              "      <td>@pipster6611</td>\n",
              "      <td>0</td>\n",
              "      <td>60</td>\n",
              "      <td>2018-02-02</td>\n",
              "      <td>None</td>\n",
              "      <td>None</td>\n",
              "    </tr>\n",
              "    <tr>\n",
              "      <th>18</th>\n",
              "      <td>@larry_cavallaro</td>\n",
              "      <td>0</td>\n",
              "      <td>6</td>\n",
              "      <td>2020-06-17</td>\n",
              "      <td>None</td>\n",
              "      <td>Enjoy life</td>\n",
              "    </tr>\n",
              "    <tr>\n",
              "      <th>19</th>\n",
              "      <td>@Chantal71279306</td>\n",
              "      <td>0</td>\n",
              "      <td>28</td>\n",
              "      <td>2019-12-22</td>\n",
              "      <td>None</td>\n",
              "      <td>Ms. Boucher is responsible for establishing a ...</td>\n",
              "    </tr>\n",
              "    <tr>\n",
              "      <th>20</th>\n",
              "      <td>@MarkRob27725775</td>\n",
              "      <td>0</td>\n",
              "      <td>9</td>\n",
              "      <td>2020-07-28</td>\n",
              "      <td>None</td>\n",
              "      <td>Loving life</td>\n",
              "    </tr>\n",
              "    <tr>\n",
              "      <th>21</th>\n",
              "      <td>@MarkRob27725775</td>\n",
              "      <td>0</td>\n",
              "      <td>9</td>\n",
              "      <td>2020-07-28</td>\n",
              "      <td>None</td>\n",
              "      <td>Loving life</td>\n",
              "    </tr>\n",
              "    <tr>\n",
              "      <th>22</th>\n",
              "      <td>@BEKHTAOUIYOUSS3</td>\n",
              "      <td>0</td>\n",
              "      <td>21</td>\n",
              "      <td>2020-08-11</td>\n",
              "      <td>USA</td>\n",
              "      <td>Hi,evryone My name is Youssef Hello Our page i...</td>\n",
              "    </tr>\n",
              "    <tr>\n",
              "      <th>23</th>\n",
              "      <td>@5evahlovingLANY</td>\n",
              "      <td>0</td>\n",
              "      <td>9</td>\n",
              "      <td>2020-03-06</td>\n",
              "      <td>Republic of the Philippines</td>\n",
              "      <td>\"Female/single/BSIT ­ƒÄô;major in system devel...</td>\n",
              "    </tr>\n",
              "    <tr>\n",
              "      <th>24</th>\n",
              "      <td>@shafayethosse15</td>\n",
              "      <td>0</td>\n",
              "      <td>3</td>\n",
              "      <td>2020-08-12</td>\n",
              "      <td>None</td>\n",
              "      <td>i am Hossen, lived in Bangladesh, i like to si...</td>\n",
              "    </tr>\n",
              "    <tr>\n",
              "      <th>25</th>\n",
              "      <td>@BootsieCup</td>\n",
              "      <td>0</td>\n",
              "      <td>1</td>\n",
              "      <td>2020-08-04</td>\n",
              "      <td>None</td>\n",
              "      <td>None</td>\n",
              "    </tr>\n",
              "    <tr>\n",
              "      <th>26</th>\n",
              "      <td>@SeaChelonSand</td>\n",
              "      <td>0</td>\n",
              "      <td>5</td>\n",
              "      <td>2020-05-27</td>\n",
              "      <td>None</td>\n",
              "      <td>positivity, introvert, architecture, art, psyc...</td>\n",
              "    </tr>\n",
              "    <tr>\n",
              "      <th>27</th>\n",
              "      <td>@meefro</td>\n",
              "      <td>0</td>\n",
              "      <td>0</td>\n",
              "      <td>2020-07-10</td>\n",
              "      <td>None</td>\n",
              "      <td>Professional society for you</td>\n",
              "    </tr>\n",
              "    <tr>\n",
              "      <th>28</th>\n",
              "      <td>@BlumeYuki</td>\n",
              "      <td>0</td>\n",
              "      <td>2</td>\n",
              "      <td>2020-08-11</td>\n",
              "      <td>None</td>\n",
              "      <td>None</td>\n",
              "    </tr>\n",
              "    <tr>\n",
              "      <th>29</th>\n",
              "      <td>@Diane89087714</td>\n",
              "      <td>0</td>\n",
              "      <td>11</td>\n",
              "      <td>2020-01-27</td>\n",
              "      <td>None</td>\n",
              "      <td>I love taking care of people....</td>\n",
              "    </tr>\n",
              "    <tr>\n",
              "      <th>30</th>\n",
              "      <td>@fuckinshithouse</td>\n",
              "      <td>0</td>\n",
              "      <td>0</td>\n",
              "      <td>2020-07-29</td>\n",
              "      <td>None</td>\n",
              "      <td>IÔÇÖm just here to rant</td>\n",
              "    </tr>\n",
              "    <tr>\n",
              "      <th>31</th>\n",
              "      <td>@xqOCodJiWHEfDdK</td>\n",
              "      <td>0</td>\n",
              "      <td>14</td>\n",
              "      <td>2020-03-17</td>\n",
              "      <td>London, England</td>\n",
              "      <td>World politicians</td>\n",
              "    </tr>\n",
              "    <tr>\n",
              "      <th>32</th>\n",
              "      <td>@MartyBanton</td>\n",
              "      <td>0</td>\n",
              "      <td>42</td>\n",
              "      <td>2016-06-13</td>\n",
              "      <td>None</td>\n",
              "      <td>None</td>\n",
              "    </tr>\n",
              "    <tr>\n",
              "      <th>33</th>\n",
              "      <td>@JohnnyManny6</td>\n",
              "      <td>0</td>\n",
              "      <td>30</td>\n",
              "      <td>2020-04-14</td>\n",
              "      <td>Vietnam</td>\n",
              "      <td>multitalkies multiculties like it or not</td>\n",
              "    </tr>\n",
              "    <tr>\n",
              "      <th>34</th>\n",
              "      <td>@ruraltechies</td>\n",
              "      <td>0</td>\n",
              "      <td>22</td>\n",
              "      <td>2013-05-29</td>\n",
              "      <td>ÓñÜÓÑçÓñ¿ÓÑìÓñ¿Óñê, Óñ¡Óñ¥Óñ¦Óññ</td>\n",
              "      <td>techie...philanthropist with no money</td>\n",
              "    </tr>\n",
              "    <tr>\n",
              "      <th>35</th>\n",
              "      <td>@xquarepants</td>\n",
              "      <td>0</td>\n",
              "      <td>43</td>\n",
              "      <td>2020-08-11</td>\n",
              "      <td>None</td>\n",
              "      <td>young dumb &amp; broke. I read a lot of stuff.</td>\n",
              "    </tr>\n",
              "    <tr>\n",
              "      <th>36</th>\n",
              "      <td>@A1Gurukulam</td>\n",
              "      <td>0</td>\n",
              "      <td>0</td>\n",
              "      <td>2020-07-20</td>\n",
              "      <td>Mumbai</td>\n",
              "      <td>None</td>\n",
              "    </tr>\n",
              "    <tr>\n",
              "      <th>37</th>\n",
              "      <td>@ForInformatio17</td>\n",
              "      <td>0</td>\n",
              "      <td>1</td>\n",
              "      <td>2020-08-11</td>\n",
              "      <td>None</td>\n",
              "      <td>information tweets</td>\n",
              "    </tr>\n",
              "    <tr>\n",
              "      <th>38</th>\n",
              "      <td>@Billzy846091241</td>\n",
              "      <td>0</td>\n",
              "      <td>1</td>\n",
              "      <td>2020-04-29</td>\n",
              "      <td>None</td>\n",
              "      <td>still breathing</td>\n",
              "    </tr>\n",
              "    <tr>\n",
              "      <th>39</th>\n",
              "      <td>@Kurt43112867</td>\n",
              "      <td>0</td>\n",
              "      <td>40</td>\n",
              "      <td>2020-08-11</td>\n",
              "      <td>None</td>\n",
              "      <td>Polymath, SigmaMale,Pro-Slavic</td>\n",
              "    </tr>\n",
              "    <tr>\n",
              "      <th>40</th>\n",
              "      <td>@harlanhayes78</td>\n",
              "      <td>0</td>\n",
              "      <td>4</td>\n",
              "      <td>2018-10-20</td>\n",
              "      <td>None</td>\n",
              "      <td>None</td>\n",
              "    </tr>\n",
              "    <tr>\n",
              "      <th>41</th>\n",
              "      <td>@indepdthinker</td>\n",
              "      <td>0</td>\n",
              "      <td>48</td>\n",
              "      <td>2017-12-01</td>\n",
              "      <td>Maryland, USA</td>\n",
              "      <td>seeker of truth, Army Brat, married 38years, m...</td>\n",
              "    </tr>\n",
              "    <tr>\n",
              "      <th>42</th>\n",
              "      <td>@Ericwsommervil1</td>\n",
              "      <td>0</td>\n",
              "      <td>5</td>\n",
              "      <td>2020-07-20</td>\n",
              "      <td>None</td>\n",
              "      <td>on the search up information</td>\n",
              "    </tr>\n",
              "    <tr>\n",
              "      <th>43</th>\n",
              "      <td>@Bv23451353</td>\n",
              "      <td>0</td>\n",
              "      <td>77</td>\n",
              "      <td>2020-08-11</td>\n",
              "      <td>None</td>\n",
              "      <td>None</td>\n",
              "    </tr>\n",
              "    <tr>\n",
              "      <th>44</th>\n",
              "      <td>@CharlesSundog</td>\n",
              "      <td>0</td>\n",
              "      <td>0</td>\n",
              "      <td>2018-10-14</td>\n",
              "      <td>Southwest Virginia</td>\n",
              "      <td>I am part of the deep poverty-stricken area of...</td>\n",
              "    </tr>\n",
              "    <tr>\n",
              "      <th>45</th>\n",
              "      <td>@macksalt1</td>\n",
              "      <td>0</td>\n",
              "      <td>0</td>\n",
              "      <td>2020-07-27</td>\n",
              "      <td>None</td>\n",
              "      <td>None</td>\n",
              "    </tr>\n",
              "    <tr>\n",
              "      <th>46</th>\n",
              "      <td>@tabriggs8</td>\n",
              "      <td>0</td>\n",
              "      <td>7</td>\n",
              "      <td>2020-02-05</td>\n",
              "      <td>USA</td>\n",
              "      <td>MALE</td>\n",
              "    </tr>\n",
              "    <tr>\n",
              "      <th>47</th>\n",
              "      <td>@CharlesSundog</td>\n",
              "      <td>0</td>\n",
              "      <td>0</td>\n",
              "      <td>2018-10-14</td>\n",
              "      <td>Southwest Virginia</td>\n",
              "      <td>I am part of the deep poverty-stricken area of...</td>\n",
              "    </tr>\n",
              "    <tr>\n",
              "      <th>48</th>\n",
              "      <td>@crbobba</td>\n",
              "      <td>0</td>\n",
              "      <td>44</td>\n",
              "      <td>2019-12-12</td>\n",
              "      <td>None</td>\n",
              "      <td>Promote and encourage YOUNG to live life in an...</td>\n",
              "    </tr>\n",
              "    <tr>\n",
              "      <th>49</th>\n",
              "      <td>@crbobba</td>\n",
              "      <td>0</td>\n",
              "      <td>44</td>\n",
              "      <td>2019-12-12</td>\n",
              "      <td>None</td>\n",
              "      <td>Promote and encourage YOUNG to live life in an...</td>\n",
              "    </tr>\n",
              "    <tr>\n",
              "      <th>50</th>\n",
              "      <td>@playboyhakan_</td>\n",
              "      <td>0</td>\n",
              "      <td>0</td>\n",
              "      <td>2011-09-01</td>\n",
              "      <td>-¦stanbul, T++rkiye</td>\n",
              "      <td>A-ƒao-ƒlu holding chelseafenerbah+ºesorti eyap...</td>\n",
              "    </tr>\n",
              "    <tr>\n",
              "      <th>51</th>\n",
              "      <td>@Chunterking</td>\n",
              "      <td>0</td>\n",
              "      <td>76</td>\n",
              "      <td>2017-10-10</td>\n",
              "      <td>None</td>\n",
              "      <td>Please Impeach Trump please!!!!!!</td>\n",
              "    </tr>\n",
              "    <tr>\n",
              "      <th>52</th>\n",
              "      <td>@brettfosterwhi1</td>\n",
              "      <td>0</td>\n",
              "      <td>15</td>\n",
              "      <td>2020-07-07</td>\n",
              "      <td>Bethany, OK.</td>\n",
              "      <td>I'm just a man who enjoys writing and guitar. ...</td>\n",
              "    </tr>\n",
              "  </tbody>\n",
              "</table>\n",
              "</div>"
            ],
            "text/plain": [
              "          ScreenName  ...                                                Bio\n",
              "0   @Brandon20105199  ...       IÔÇÖm just a YouTuber subscribe to xdnikeman\n",
              "1   @JamesCharlesWa7  ...  I am a young man who is black and who is tryin...\n",
              "2   @Christ_Will_Iam  ...  \"I am Jesus Christ. Police/government official...\n",
              "3   @Vincent94077438  ...  A Firm Believer in the Lord Jesus Christ & Com...\n",
              "4   @Vincent94077438  ...  A Firm Believer in the Lord Jesus Christ & Com...\n",
              "5   @Vincent94077438  ...  A Firm Believer in the Lord Jesus Christ & Com...\n",
              "6     @RahmanOfIndia  ...  After completing one mission of my life,i want...\n",
              "7   @Stephen76948225  ...                                               None\n",
              "8           @JSemkiv  ...                                               None\n",
              "9           @JSemkiv  ...                                               None\n",
              "10     @hemanttnameh  ...                                               None\n",
              "11          @JSemkiv  ...                                               None\n",
              "12          @JSemkiv  ...                                               None\n",
              "13           @Sm411R  ...                                               None\n",
              "14      @moremitmita  ...                                               None\n",
              "15     @delusional_u  ...                                               None\n",
              "16     @delusional_u  ...                                               None\n",
              "17      @pipster6611  ...                                               None\n",
              "18  @larry_cavallaro  ...                                         Enjoy life\n",
              "19  @Chantal71279306  ...  Ms. Boucher is responsible for establishing a ...\n",
              "20  @MarkRob27725775  ...                                        Loving life\n",
              "21  @MarkRob27725775  ...                                        Loving life\n",
              "22  @BEKHTAOUIYOUSS3  ...  Hi,evryone My name is Youssef Hello Our page i...\n",
              "23  @5evahlovingLANY  ...  \"Female/single/BSIT ­ƒÄô;major in system devel...\n",
              "24  @shafayethosse15  ...  i am Hossen, lived in Bangladesh, i like to si...\n",
              "25       @BootsieCup  ...                                               None\n",
              "26    @SeaChelonSand  ...  positivity, introvert, architecture, art, psyc...\n",
              "27           @meefro  ...                       Professional society for you\n",
              "28        @BlumeYuki  ...                                               None\n",
              "29    @Diane89087714  ...                   I love taking care of people....\n",
              "30  @fuckinshithouse  ...                            IÔÇÖm just here to rant\n",
              "31  @xqOCodJiWHEfDdK  ...                                  World politicians\n",
              "32      @MartyBanton  ...                                               None\n",
              "33     @JohnnyManny6  ...           multitalkies multiculties like it or not\n",
              "34     @ruraltechies  ...              techie...philanthropist with no money\n",
              "35      @xquarepants  ...         young dumb & broke. I read a lot of stuff.\n",
              "36      @A1Gurukulam  ...                                               None\n",
              "37  @ForInformatio17  ...                                 information tweets\n",
              "38  @Billzy846091241  ...                                    still breathing\n",
              "39     @Kurt43112867  ...                     Polymath, SigmaMale,Pro-Slavic\n",
              "40    @harlanhayes78  ...                                               None\n",
              "41    @indepdthinker  ...  seeker of truth, Army Brat, married 38years, m...\n",
              "42  @Ericwsommervil1  ...                       on the search up information\n",
              "43       @Bv23451353  ...                                               None\n",
              "44    @CharlesSundog  ...  I am part of the deep poverty-stricken area of...\n",
              "45        @macksalt1  ...                                               None\n",
              "46        @tabriggs8  ...                                               MALE\n",
              "47    @CharlesSundog  ...  I am part of the deep poverty-stricken area of...\n",
              "48          @crbobba  ...  Promote and encourage YOUNG to live life in an...\n",
              "49          @crbobba  ...  Promote and encourage YOUNG to live life in an...\n",
              "50    @playboyhakan_  ...  A-ƒao-ƒlu holding chelseafenerbah+ºesorti eyap...\n",
              "51      @Chunterking  ...                  Please Impeach Trump please!!!!!!\n",
              "52  @brettfosterwhi1  ...  I'm just a man who enjoys writing and guitar. ...\n",
              "\n",
              "[53 rows x 6 columns]"
            ]
          },
          "metadata": {
            "tags": []
          },
          "execution_count": 19
        }
      ]
    },
    {
      "cell_type": "markdown",
      "metadata": {
        "id": "B2C8lsrXvo6I",
        "colab_type": "text"
      },
      "source": [
        "12. Seleccion de la info completa de un tweet"
      ]
    },
    {
      "cell_type": "code",
      "metadata": {
        "id": "-8tbWc1MuWm7",
        "colab_type": "code",
        "colab": {
          "base_uri": "https://localhost:8080/",
          "height": 762
        },
        "outputId": "c3d3e932-9a57-485e-af85-e5c4bfdbe37e"
      },
      "source": [
        "cons_12 = pd.read_sql_query(\"SELECT * FROM Tweets t INNER JOIN Tweets_Detalle td on td.TweetID = t.TweetID\", conn)\n",
        "cons_12"
      ],
      "execution_count": 20,
      "outputs": [
        {
          "output_type": "execute_result",
          "data": {
            "text/html": [
              "<div>\n",
              "<style scoped>\n",
              "    .dataframe tbody tr th:only-of-type {\n",
              "        vertical-align: middle;\n",
              "    }\n",
              "\n",
              "    .dataframe tbody tr th {\n",
              "        vertical-align: top;\n",
              "    }\n",
              "\n",
              "    .dataframe thead th {\n",
              "        text-align: right;\n",
              "    }\n",
              "</style>\n",
              "<table border=\"1\" class=\"dataframe\">\n",
              "  <thead>\n",
              "    <tr style=\"text-align: right;\">\n",
              "      <th></th>\n",
              "      <th>Date_Tweet</th>\n",
              "      <th>TweetText</th>\n",
              "      <th>TweetID</th>\n",
              "      <th>ScreenName</th>\n",
              "      <th>TweetID</th>\n",
              "      <th>Retweets</th>\n",
              "      <th>Favorites</th>\n",
              "      <th>App</th>\n",
              "    </tr>\n",
              "  </thead>\n",
              "  <tbody>\n",
              "    <tr>\n",
              "      <th>0</th>\n",
              "      <td>2020-08-11</td>\n",
              "      <td>Putin s daughter taking a new vaccine is as pr...</td>\n",
              "      <td>1293262667285778434</td>\n",
              "      <td>@Pagecamper1</td>\n",
              "      <td>1293262667285778434</td>\n",
              "      <td>0</td>\n",
              "      <td>0</td>\n",
              "      <td>Twitter for iPhone</td>\n",
              "    </tr>\n",
              "    <tr>\n",
              "      <th>1</th>\n",
              "      <td>2020-08-11</td>\n",
              "      <td>This is a Republican using the military to pan...</td>\n",
              "      <td>1293262667969449987</td>\n",
              "      <td>@DebbieNunn1234</td>\n",
              "      <td>1293262667969449987</td>\n",
              "      <td>1</td>\n",
              "      <td>2</td>\n",
              "      <td>Twitter for Android</td>\n",
              "    </tr>\n",
              "    <tr>\n",
              "      <th>2</th>\n",
              "      <td>2020-08-11</td>\n",
              "      <td>This whole thing reminds me of an episode of T...</td>\n",
              "      <td>1293262671559536640</td>\n",
              "      <td>@darthyoshiboy</td>\n",
              "      <td>1293262671559536640</td>\n",
              "      <td>0</td>\n",
              "      <td>1</td>\n",
              "      <td>Twitter Web App</td>\n",
              "    </tr>\n",
              "    <tr>\n",
              "      <th>3</th>\n",
              "      <td>2020-08-11</td>\n",
              "      <td>LyingTed knew He s just earning the money Put...</td>\n",
              "      <td>1293262673883410432</td>\n",
              "      <td>@SevereSeverus</td>\n",
              "      <td>1293262673883410432</td>\n",
              "      <td>0</td>\n",
              "      <td>0</td>\n",
              "      <td>Twitter Web App</td>\n",
              "    </tr>\n",
              "    <tr>\n",
              "      <th>4</th>\n",
              "      <td>2020-08-11</td>\n",
              "      <td>Hopefully Drumpf will and maybe sit in on a th...</td>\n",
              "      <td>1293262676597112832</td>\n",
              "      <td>@markgoo80547801</td>\n",
              "      <td>1293262676597112832</td>\n",
              "      <td>0</td>\n",
              "      <td>0</td>\n",
              "      <td>Twitter for Android</td>\n",
              "    </tr>\n",
              "    <tr>\n",
              "      <th>...</th>\n",
              "      <td>...</td>\n",
              "      <td>...</td>\n",
              "      <td>...</td>\n",
              "      <td>...</td>\n",
              "      <td>...</td>\n",
              "      <td>...</td>\n",
              "      <td>...</td>\n",
              "      <td>...</td>\n",
              "    </tr>\n",
              "    <tr>\n",
              "      <th>2891</th>\n",
              "      <td>2020-08-12</td>\n",
              "      <td>Not today Putin</td>\n",
              "      <td>1293673669236002819</td>\n",
              "      <td>@AnthonyAggie17</td>\n",
              "      <td>1293673669236002819</td>\n",
              "      <td>0</td>\n",
              "      <td>0</td>\n",
              "      <td>Twitter for Android</td>\n",
              "    </tr>\n",
              "    <tr>\n",
              "      <th>2892</th>\n",
              "      <td>2020-08-12</td>\n",
              "      <td>ohhhhhhhh putin RT Samsinho Notre voiture a br...</td>\n",
              "      <td>1293673745148764160</td>\n",
              "      <td>@assouu___</td>\n",
              "      <td>1293673745148764160</td>\n",
              "      <td>0</td>\n",
              "      <td>0</td>\n",
              "      <td>Twitter for iPhone</td>\n",
              "    </tr>\n",
              "    <tr>\n",
              "      <th>2893</th>\n",
              "      <td>2020-08-12</td>\n",
              "      <td>HaHaHaHa Vladimir Putin You GO Boy KremlinRuss...</td>\n",
              "      <td>1293673750408433667</td>\n",
              "      <td>@PrincessBibiRF_</td>\n",
              "      <td>1293673750408433667</td>\n",
              "      <td>1</td>\n",
              "      <td>1</td>\n",
              "      <td>Twitter Web App</td>\n",
              "    </tr>\n",
              "    <tr>\n",
              "      <th>2894</th>\n",
              "      <td>2020-08-12</td>\n",
              "      <td>Putin tRump RT smc GOPChairwoman GOP BountyGat...</td>\n",
              "      <td>1293673783165882374</td>\n",
              "      <td>@kz1300a4_lee</td>\n",
              "      <td>1293673783165882374</td>\n",
              "      <td>0</td>\n",
              "      <td>0</td>\n",
              "      <td>Twitter Web App</td>\n",
              "    </tr>\n",
              "    <tr>\n",
              "      <th>2895</th>\n",
              "      <td>2020-08-12</td>\n",
              "      <td>Oops and the out of this people are Putin s da...</td>\n",
              "      <td>1293673804787593216</td>\n",
              "      <td>@geometryfan</td>\n",
              "      <td>1293673804787593216</td>\n",
              "      <td>0</td>\n",
              "      <td>0</td>\n",
              "      <td>Twitter for iPad</td>\n",
              "    </tr>\n",
              "  </tbody>\n",
              "</table>\n",
              "<p>2896 rows × 8 columns</p>\n",
              "</div>"
            ],
            "text/plain": [
              "      Date_Tweet  ...                  App\n",
              "0     2020-08-11  ...   Twitter for iPhone\n",
              "1     2020-08-11  ...  Twitter for Android\n",
              "2     2020-08-11  ...      Twitter Web App\n",
              "3     2020-08-11  ...      Twitter Web App\n",
              "4     2020-08-11  ...  Twitter for Android\n",
              "...          ...  ...                  ...\n",
              "2891  2020-08-12  ...  Twitter for Android\n",
              "2892  2020-08-12  ...   Twitter for iPhone\n",
              "2893  2020-08-12  ...      Twitter Web App\n",
              "2894  2020-08-12  ...      Twitter Web App\n",
              "2895  2020-08-12  ...     Twitter for iPad\n",
              "\n",
              "[2896 rows x 8 columns]"
            ]
          },
          "metadata": {
            "tags": []
          },
          "execution_count": 20
        }
      ]
    },
    {
      "cell_type": "markdown",
      "metadata": {
        "id": "BN1TJwmYvtaR",
        "colab_type": "text"
      },
      "source": [
        "13. Seleccion de los usuarios mas antiguos"
      ]
    },
    {
      "cell_type": "code",
      "metadata": {
        "id": "x7HNDYgNuW9T",
        "colab_type": "code",
        "colab": {
          "base_uri": "https://localhost:8080/",
          "height": 79
        },
        "outputId": "e2a2f145-baca-4098-bb10-c890e4ae5d62"
      },
      "source": [
        "cons_13 = pd.read_sql_query(\"SELECT TOP 1 u.FullName, u.ScreenName, ud.UserSince, ud.Location FROM Usuarios u INNER JOIN Usuarios_Detalle ud ON u.ScreenName = ud.ScreenName ORDER BY UserSince ASC\", conn)\n",
        "cons_13"
      ],
      "execution_count": 21,
      "outputs": [
        {
          "output_type": "execute_result",
          "data": {
            "text/html": [
              "<div>\n",
              "<style scoped>\n",
              "    .dataframe tbody tr th:only-of-type {\n",
              "        vertical-align: middle;\n",
              "    }\n",
              "\n",
              "    .dataframe tbody tr th {\n",
              "        vertical-align: top;\n",
              "    }\n",
              "\n",
              "    .dataframe thead th {\n",
              "        text-align: right;\n",
              "    }\n",
              "</style>\n",
              "<table border=\"1\" class=\"dataframe\">\n",
              "  <thead>\n",
              "    <tr style=\"text-align: right;\">\n",
              "      <th></th>\n",
              "      <th>FullName</th>\n",
              "      <th>ScreenName</th>\n",
              "      <th>UserSince</th>\n",
              "      <th>Location</th>\n",
              "    </tr>\n",
              "  </thead>\n",
              "  <tbody>\n",
              "    <tr>\n",
              "      <th>0</th>\n",
              "      <td>michael</td>\n",
              "      <td>@MParekh</td>\n",
              "      <td>2006-07-16</td>\n",
              "      <td>None</td>\n",
              "    </tr>\n",
              "  </tbody>\n",
              "</table>\n",
              "</div>"
            ],
            "text/plain": [
              "  FullName ScreenName   UserSince Location\n",
              "0  michael   @MParekh  2006-07-16     None"
            ]
          },
          "metadata": {
            "tags": []
          },
          "execution_count": 21
        }
      ]
    },
    {
      "cell_type": "markdown",
      "metadata": {
        "id": "tsKcxbTwvzKz",
        "colab_type": "text"
      },
      "source": [
        "14. Seleccion del usuario mas reciente"
      ]
    },
    {
      "cell_type": "code",
      "metadata": {
        "id": "wbmdsJSxuXgS",
        "colab_type": "code",
        "colab": {
          "base_uri": "https://localhost:8080/",
          "height": 79
        },
        "outputId": "c20a5d0d-c78d-4730-8bdb-01b0462944ab"
      },
      "source": [
        "cons_14 = pd.read_sql_query(\"SELECT TOP 1 u.FullName, u.ScreenName, ud.UserSince, ud.Location FROM Usuarios u INNER JOIN Usuarios_Detalle ud ON u.ScreenName = ud.ScreenName ORDER BY UserSince DESC\", conn)\n",
        "cons_14"
      ],
      "execution_count": 22,
      "outputs": [
        {
          "output_type": "execute_result",
          "data": {
            "text/html": [
              "<div>\n",
              "<style scoped>\n",
              "    .dataframe tbody tr th:only-of-type {\n",
              "        vertical-align: middle;\n",
              "    }\n",
              "\n",
              "    .dataframe tbody tr th {\n",
              "        vertical-align: top;\n",
              "    }\n",
              "\n",
              "    .dataframe thead th {\n",
              "        text-align: right;\n",
              "    }\n",
              "</style>\n",
              "<table border=\"1\" class=\"dataframe\">\n",
              "  <thead>\n",
              "    <tr style=\"text-align: right;\">\n",
              "      <th></th>\n",
              "      <th>FullName</th>\n",
              "      <th>ScreenName</th>\n",
              "      <th>UserSince</th>\n",
              "      <th>Location</th>\n",
              "    </tr>\n",
              "  </thead>\n",
              "  <tbody>\n",
              "    <tr>\n",
              "      <th>0</th>\n",
              "      <td>Brandon K</td>\n",
              "      <td>@Brandon20105199</td>\n",
              "      <td>2020-08-12</td>\n",
              "      <td>None</td>\n",
              "    </tr>\n",
              "  </tbody>\n",
              "</table>\n",
              "</div>"
            ],
            "text/plain": [
              "    FullName        ScreenName   UserSince Location\n",
              "0  Brandon K  @Brandon20105199  2020-08-12     None"
            ]
          },
          "metadata": {
            "tags": []
          },
          "execution_count": 22
        }
      ]
    },
    {
      "cell_type": "markdown",
      "metadata": {
        "id": "KwBmhDn9v8Hi",
        "colab_type": "text"
      },
      "source": [
        "15. Seleccion del total de plataformas mas utilizada para twitear"
      ]
    },
    {
      "cell_type": "code",
      "metadata": {
        "id": "U1Dp7PBPuYpT",
        "colab_type": "code",
        "colab": {
          "base_uri": "https://localhost:8080/",
          "height": 415
        },
        "outputId": "fd54c5b8-f04a-4201-9aed-410a3e6b46f0"
      },
      "source": [
        "cons_15 = pd.read_sql_query(\"SELECT App, COUNT(App) as Total FROM Tweets_Detalle GROUP BY App ORDER BY Total DESC\", conn)\n",
        "cons_15"
      ],
      "execution_count": 23,
      "outputs": [
        {
          "output_type": "execute_result",
          "data": {
            "text/html": [
              "<div>\n",
              "<style scoped>\n",
              "    .dataframe tbody tr th:only-of-type {\n",
              "        vertical-align: middle;\n",
              "    }\n",
              "\n",
              "    .dataframe tbody tr th {\n",
              "        vertical-align: top;\n",
              "    }\n",
              "\n",
              "    .dataframe thead th {\n",
              "        text-align: right;\n",
              "    }\n",
              "</style>\n",
              "<table border=\"1\" class=\"dataframe\">\n",
              "  <thead>\n",
              "    <tr style=\"text-align: right;\">\n",
              "      <th></th>\n",
              "      <th>App</th>\n",
              "      <th>Total</th>\n",
              "    </tr>\n",
              "  </thead>\n",
              "  <tbody>\n",
              "    <tr>\n",
              "      <th>0</th>\n",
              "      <td>Twitter Web App</td>\n",
              "      <td>997</td>\n",
              "    </tr>\n",
              "    <tr>\n",
              "      <th>1</th>\n",
              "      <td>Twitter for iPhone</td>\n",
              "      <td>761</td>\n",
              "    </tr>\n",
              "    <tr>\n",
              "      <th>2</th>\n",
              "      <td>Twitter for Android</td>\n",
              "      <td>697</td>\n",
              "    </tr>\n",
              "    <tr>\n",
              "      <th>3</th>\n",
              "      <td>Twitter for iPad</td>\n",
              "      <td>139</td>\n",
              "    </tr>\n",
              "    <tr>\n",
              "      <th>4</th>\n",
              "      <td>TweetDeck</td>\n",
              "      <td>50</td>\n",
              "    </tr>\n",
              "    <tr>\n",
              "      <th>...</th>\n",
              "      <td>...</td>\n",
              "      <td>...</td>\n",
              "    </tr>\n",
              "    <tr>\n",
              "      <th>75</th>\n",
              "      <td>KBYzanetWPtoTwitter</td>\n",
              "      <td>1</td>\n",
              "    </tr>\n",
              "    <tr>\n",
              "      <th>76</th>\n",
              "      <td>breaking-news.it</td>\n",
              "      <td>1</td>\n",
              "    </tr>\n",
              "    <tr>\n",
              "      <th>77</th>\n",
              "      <td>AJR First App</td>\n",
              "      <td>1</td>\n",
              "    </tr>\n",
              "    <tr>\n",
              "      <th>78</th>\n",
              "      <td>Zapier.com</td>\n",
              "      <td>1</td>\n",
              "    </tr>\n",
              "    <tr>\n",
              "      <th>79</th>\n",
              "      <td>Flamingo for Android</td>\n",
              "      <td>1</td>\n",
              "    </tr>\n",
              "  </tbody>\n",
              "</table>\n",
              "<p>80 rows × 2 columns</p>\n",
              "</div>"
            ],
            "text/plain": [
              "                     App  Total\n",
              "0        Twitter Web App    997\n",
              "1     Twitter for iPhone    761\n",
              "2    Twitter for Android    697\n",
              "3       Twitter for iPad    139\n",
              "4              TweetDeck     50\n",
              "..                   ...    ...\n",
              "75   KBYzanetWPtoTwitter      1\n",
              "76      breaking-news.it      1\n",
              "77         AJR First App      1\n",
              "78            Zapier.com      1\n",
              "79  Flamingo for Android      1\n",
              "\n",
              "[80 rows x 2 columns]"
            ]
          },
          "metadata": {
            "tags": []
          },
          "execution_count": 23
        }
      ]
    },
    {
      "cell_type": "markdown",
      "metadata": {
        "id": "uNh2Cg1hwBaD",
        "colab_type": "text"
      },
      "source": [
        "16. Seleccion del top 1 de plataforma mas usada"
      ]
    },
    {
      "cell_type": "code",
      "metadata": {
        "id": "qMV8Xt0ouYRA",
        "colab_type": "code",
        "colab": {
          "base_uri": "https://localhost:8080/",
          "height": 79
        },
        "outputId": "38e80c2f-5d6d-4a20-b61b-04adc3b5e86c"
      },
      "source": [
        "cons_16 = pd.read_sql_query(\"SELECT TOP 1 App, COUNT(App) as Total FROM Tweets_Detalle GROUP BY App ORDER BY Total DESC\", conn)\n",
        "cons_16"
      ],
      "execution_count": 24,
      "outputs": [
        {
          "output_type": "execute_result",
          "data": {
            "text/html": [
              "<div>\n",
              "<style scoped>\n",
              "    .dataframe tbody tr th:only-of-type {\n",
              "        vertical-align: middle;\n",
              "    }\n",
              "\n",
              "    .dataframe tbody tr th {\n",
              "        vertical-align: top;\n",
              "    }\n",
              "\n",
              "    .dataframe thead th {\n",
              "        text-align: right;\n",
              "    }\n",
              "</style>\n",
              "<table border=\"1\" class=\"dataframe\">\n",
              "  <thead>\n",
              "    <tr style=\"text-align: right;\">\n",
              "      <th></th>\n",
              "      <th>App</th>\n",
              "      <th>Total</th>\n",
              "    </tr>\n",
              "  </thead>\n",
              "  <tbody>\n",
              "    <tr>\n",
              "      <th>0</th>\n",
              "      <td>Twitter Web App</td>\n",
              "      <td>997</td>\n",
              "    </tr>\n",
              "  </tbody>\n",
              "</table>\n",
              "</div>"
            ],
            "text/plain": [
              "               App  Total\n",
              "0  Twitter Web App    997"
            ]
          },
          "metadata": {
            "tags": []
          },
          "execution_count": 24
        }
      ]
    },
    {
      "cell_type": "markdown",
      "metadata": {
        "id": "W9Y1n980wTfm",
        "colab_type": "text"
      },
      "source": [
        "17. Seleccion del top 1 de la plataforma menos usada"
      ]
    },
    {
      "cell_type": "code",
      "metadata": {
        "id": "zcxF6bAwuXx8",
        "colab_type": "code",
        "colab": {
          "base_uri": "https://localhost:8080/",
          "height": 79
        },
        "outputId": "afcaa7ac-3c24-4cdb-a335-b9edd7dc07e1"
      },
      "source": [
        "cons_17 = pd.read_sql_query(\"SELECT TOP 1 App, COUNT(App) as Total FROM Tweets_Detalle GROUP BY App ORDER BY Total ASC\", conn)\n",
        "cons_17"
      ],
      "execution_count": 25,
      "outputs": [
        {
          "output_type": "execute_result",
          "data": {
            "text/html": [
              "<div>\n",
              "<style scoped>\n",
              "    .dataframe tbody tr th:only-of-type {\n",
              "        vertical-align: middle;\n",
              "    }\n",
              "\n",
              "    .dataframe tbody tr th {\n",
              "        vertical-align: top;\n",
              "    }\n",
              "\n",
              "    .dataframe thead th {\n",
              "        text-align: right;\n",
              "    }\n",
              "</style>\n",
              "<table border=\"1\" class=\"dataframe\">\n",
              "  <thead>\n",
              "    <tr style=\"text-align: right;\">\n",
              "      <th></th>\n",
              "      <th>App</th>\n",
              "      <th>Total</th>\n",
              "    </tr>\n",
              "  </thead>\n",
              "  <tbody>\n",
              "    <tr>\n",
              "      <th>0</th>\n",
              "      <td>DictatorRadar</td>\n",
              "      <td>1</td>\n",
              "    </tr>\n",
              "  </tbody>\n",
              "</table>\n",
              "</div>"
            ],
            "text/plain": [
              "             App  Total\n",
              "0  DictatorRadar      1"
            ]
          },
          "metadata": {
            "tags": []
          },
          "execution_count": 25
        }
      ]
    },
    {
      "cell_type": "markdown",
      "metadata": {
        "id": "-hZZNf9bwni3",
        "colab_type": "text"
      },
      "source": [
        "18. Seleccion del Tweet con mas retweets"
      ]
    },
    {
      "cell_type": "code",
      "metadata": {
        "id": "K8F8iQAYyhr4",
        "colab_type": "code",
        "colab": {
          "base_uri": "https://localhost:8080/",
          "height": 79
        },
        "outputId": "04d9995b-6dbc-456b-830e-0c128e29e044"
      },
      "source": [
        "cons_18 = pd.read_sql_query(\"SELECT t.TweetText, t.Date_Tweet FROM Tweets_Detalle td INNER JOIN Tweets t on t.TweetID = td.TweetID WHERE Retweets = (SELECT MAX(Retweets) FROM Tweets_Detalle)\", conn)\n",
        "cons_18"
      ],
      "execution_count": 26,
      "outputs": [
        {
          "output_type": "execute_result",
          "data": {
            "text/html": [
              "<div>\n",
              "<style scoped>\n",
              "    .dataframe tbody tr th:only-of-type {\n",
              "        vertical-align: middle;\n",
              "    }\n",
              "\n",
              "    .dataframe tbody tr th {\n",
              "        vertical-align: top;\n",
              "    }\n",
              "\n",
              "    .dataframe thead th {\n",
              "        text-align: right;\n",
              "    }\n",
              "</style>\n",
              "<table border=\"1\" class=\"dataframe\">\n",
              "  <thead>\n",
              "    <tr style=\"text-align: right;\">\n",
              "      <th></th>\n",
              "      <th>TweetText</th>\n",
              "      <th>Date_Tweet</th>\n",
              "    </tr>\n",
              "  </thead>\n",
              "  <tbody>\n",
              "    <tr>\n",
              "      <th>0</th>\n",
              "      <td>Trump talks to Putin regularly and is recorded...</td>\n",
              "      <td>2020-08-11</td>\n",
              "    </tr>\n",
              "  </tbody>\n",
              "</table>\n",
              "</div>"
            ],
            "text/plain": [
              "                                           TweetText  Date_Tweet\n",
              "0  Trump talks to Putin regularly and is recorded...  2020-08-11"
            ]
          },
          "metadata": {
            "tags": []
          },
          "execution_count": 26
        }
      ]
    },
    {
      "cell_type": "markdown",
      "metadata": {
        "id": "UsD1Yz1WzkQl",
        "colab_type": "text"
      },
      "source": [
        "19. Seleccion de los tweets entre los días lunes 10 de agosto y martes 11 de agosto del 2020"
      ]
    },
    {
      "cell_type": "code",
      "metadata": {
        "id": "SiiUe8UizrhC",
        "colab_type": "code",
        "colab": {
          "base_uri": "https://localhost:8080/",
          "height": 415
        },
        "outputId": "8449e66d-a12a-41bd-c9c8-cad0cd477376"
      },
      "source": [
        "cons_19 = pd.read_sql_query(\"SELECT TweetText FROM Tweets WHERE Date_Tweet BETWEEN '08-10-2020' AND '08-12-2020'\", conn)\n",
        "cons_19"
      ],
      "execution_count": 27,
      "outputs": [
        {
          "output_type": "execute_result",
          "data": {
            "text/html": [
              "<div>\n",
              "<style scoped>\n",
              "    .dataframe tbody tr th:only-of-type {\n",
              "        vertical-align: middle;\n",
              "    }\n",
              "\n",
              "    .dataframe tbody tr th {\n",
              "        vertical-align: top;\n",
              "    }\n",
              "\n",
              "    .dataframe thead th {\n",
              "        text-align: right;\n",
              "    }\n",
              "</style>\n",
              "<table border=\"1\" class=\"dataframe\">\n",
              "  <thead>\n",
              "    <tr style=\"text-align: right;\">\n",
              "      <th></th>\n",
              "      <th>TweetText</th>\n",
              "    </tr>\n",
              "  </thead>\n",
              "  <tbody>\n",
              "    <tr>\n",
              "      <th>0</th>\n",
              "      <td>Putin s daughter taking a new vaccine is as pr...</td>\n",
              "    </tr>\n",
              "    <tr>\n",
              "      <th>1</th>\n",
              "      <td>This is a Republican using the military to pan...</td>\n",
              "    </tr>\n",
              "    <tr>\n",
              "      <th>2</th>\n",
              "      <td>This whole thing reminds me of an episode of T...</td>\n",
              "    </tr>\n",
              "    <tr>\n",
              "      <th>3</th>\n",
              "      <td>LyingTed knew He s just earning the money Put...</td>\n",
              "    </tr>\n",
              "    <tr>\n",
              "      <th>4</th>\n",
              "      <td>Hopefully Drumpf will and maybe sit in on a th...</td>\n",
              "    </tr>\n",
              "    <tr>\n",
              "      <th>...</th>\n",
              "      <td>...</td>\n",
              "    </tr>\n",
              "    <tr>\n",
              "      <th>2891</th>\n",
              "      <td>Not today Putin</td>\n",
              "    </tr>\n",
              "    <tr>\n",
              "      <th>2892</th>\n",
              "      <td>ohhhhhhhh putin RT Samsinho Notre voiture a br...</td>\n",
              "    </tr>\n",
              "    <tr>\n",
              "      <th>2893</th>\n",
              "      <td>HaHaHaHa Vladimir Putin You GO Boy KremlinRuss...</td>\n",
              "    </tr>\n",
              "    <tr>\n",
              "      <th>2894</th>\n",
              "      <td>Putin tRump RT smc GOPChairwoman GOP BountyGat...</td>\n",
              "    </tr>\n",
              "    <tr>\n",
              "      <th>2895</th>\n",
              "      <td>Oops and the out of this people are Putin s da...</td>\n",
              "    </tr>\n",
              "  </tbody>\n",
              "</table>\n",
              "<p>2896 rows × 1 columns</p>\n",
              "</div>"
            ],
            "text/plain": [
              "                                              TweetText\n",
              "0     Putin s daughter taking a new vaccine is as pr...\n",
              "1     This is a Republican using the military to pan...\n",
              "2     This whole thing reminds me of an episode of T...\n",
              "3      LyingTed knew He s just earning the money Put...\n",
              "4     Hopefully Drumpf will and maybe sit in on a th...\n",
              "...                                                 ...\n",
              "2891                                   Not today Putin \n",
              "2892  ohhhhhhhh putin RT Samsinho Notre voiture a br...\n",
              "2893  HaHaHaHa Vladimir Putin You GO Boy KremlinRuss...\n",
              "2894  Putin tRump RT smc GOPChairwoman GOP BountyGat...\n",
              "2895  Oops and the out of this people are Putin s da...\n",
              "\n",
              "[2896 rows x 1 columns]"
            ]
          },
          "metadata": {
            "tags": []
          },
          "execution_count": 27
        }
      ]
    },
    {
      "cell_type": "code",
      "metadata": {
        "id": "tPiyRPNrz3K6",
        "colab_type": "code",
        "colab": {}
      },
      "source": [
        "# Cerramos todas las conexiones\n",
        "cursor.close()\n",
        "conn.close()"
      ],
      "execution_count": 28,
      "outputs": []
    }
  ]
}