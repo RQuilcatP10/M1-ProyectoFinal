{
  "nbformat": 4,
  "nbformat_minor": 0,
  "metadata": {
    "colab": {
      "name": "RArbolito.ipynb",
      "provenance": [],
      "collapsed_sections": [],
      "toc_visible": true
    },
    "kernelspec": {
      "name": "ir",
      "display_name": "R"
    }
  },
  "cells": [
    {
      "cell_type": "markdown",
      "metadata": {
        "id": "yGke4_XF7sgV",
        "colab_type": "text"
      },
      "source": [
        "<h1 align=\"center\"><b>Visualización de Datos</b>\n",
        "<hr>"
      ]
    },
    {
      "cell_type": "markdown",
      "metadata": {
        "id": "iaGzdoIM8UEg",
        "colab_type": "text"
      },
      "source": [
        "## Instalacion y configuracion de librerias"
      ]
    },
    {
      "cell_type": "markdown",
      "metadata": {
        "id": "1mbVQQ5f8hE-",
        "colab_type": "text"
      },
      "source": [
        "1. Instalación de TextMining"
      ]
    },
    {
      "cell_type": "code",
      "metadata": {
        "id": "RElKo0I46V1g",
        "colab_type": "code",
        "colab": {}
      },
      "source": [
        "library(tm)\n",
        "library(caret)\n",
        "library(ggplot2)"
      ],
      "execution_count": 24,
      "outputs": []
    },
    {
      "cell_type": "markdown",
      "metadata": {
        "id": "icozP-oQ9uvw",
        "colab_type": "text"
      },
      "source": [
        "## Exportacion de los datos y creacion de corpus"
      ]
    },
    {
      "cell_type": "markdown",
      "metadata": {
        "id": "rpBr75Hz-tFo",
        "colab_type": "text"
      },
      "source": [
        "2. Tomaremos como factor o variable dependiente las palabras negativas (Label == 0), para ello crearemos una columna con ese nombre y ese valor"
      ]
    },
    {
      "cell_type": "code",
      "metadata": {
        "id": "lSBBw-mp9pl-",
        "colab_type": "code",
        "colab": {
          "base_uri": "https://localhost:8080/",
          "height": 71
        },
        "outputId": "93ad1ddc-ab15-4d81-b219-552f1a84ae21"
      },
      "source": [
        "tweets <- read.csv(\"vacuna_dataset_preprocesado.csv\", sep=\",\")\n",
        "\n",
        "tweets$Negative <- as.factor(tweets$Label == 0)\n",
        "\n",
        "table(tweets$Negative)\n",
        "\n",
        "tweet_corpus <- Corpus(VectorSource(tweets$Tweet))"
      ],
      "execution_count": 2,
      "outputs": [
        {
          "output_type": "display_data",
          "data": {
            "text/plain": [
              "\n",
              "FALSE  TRUE \n",
              " 1412   629 "
            ]
          },
          "metadata": {
            "tags": []
          }
        }
      ]
    },
    {
      "cell_type": "markdown",
      "metadata": {
        "id": "7j9Gwowx_POP",
        "colab_type": "text"
      },
      "source": [
        "3. Haremos algunas transformaciones al corpus para poder hacer un buen modelo"
      ]
    },
    {
      "cell_type": "code",
      "metadata": {
        "id": "QvR2bRBeBCTL",
        "colab_type": "code",
        "colab": {
          "base_uri": "https://localhost:8080/",
          "height": 71
        },
        "outputId": "ac7f1142-6185-4455-8bc0-23c23a6fc3f6"
      },
      "source": [
        "install.packages('e1071')\n",
        "library(e1071)"
      ],
      "execution_count": 20,
      "outputs": [
        {
          "output_type": "stream",
          "text": [
            "Installing package into ‘/usr/local/lib/R/site-library’\n",
            "(as ‘lib’ is unspecified)\n",
            "\n"
          ],
          "name": "stderr"
        }
      ]
    },
    {
      "cell_type": "code",
      "metadata": {
        "id": "E6ts5pUD-p6q",
        "colab_type": "code",
        "colab": {
          "base_uri": "https://localhost:8080/",
          "height": 161
        },
        "outputId": "fa25efe1-da16-435e-97be-c4b1e115dc00"
      },
      "source": [
        "#tweet_corpus\n",
        "clean_corpus <- function(corp){\n",
        "  corp <- tm_map(corp, content_transformer(tolower))\n",
        "  corp <- tm_map(corp, removePunctuation)\n",
        "  corp <- tm_map(corp, removeWords, stopwords('en'))\n",
        "  corp <- tm_map(corp, stemDocument)\n",
        "}\n",
        "\n",
        "clean_corp <- clean_corpus(tweet_corpus)\n",
        "frequencies <- TermDocumentMatrix(clean_corp)"
      ],
      "execution_count": 8,
      "outputs": [
        {
          "output_type": "stream",
          "text": [
            "Warning message in tm_map.SimpleCorpus(corp, content_transformer(tolower)):\n",
            "“transformation drops documents”\n",
            "Warning message in tm_map.SimpleCorpus(corp, removePunctuation):\n",
            "“transformation drops documents”\n",
            "Warning message in tm_map.SimpleCorpus(corp, removeWords, stopwords(\"en\")):\n",
            "“transformation drops documents”\n",
            "Warning message in tm_map.SimpleCorpus(corp, stemDocument):\n",
            "“transformation drops documents”\n"
          ],
          "name": "stderr"
        }
      ]
    },
    {
      "cell_type": "markdown",
      "metadata": {
        "id": "aDFnkYtp_T4o",
        "colab_type": "text"
      },
      "source": [
        "4. Creamos un DocumentTermMatrix, ya sabemos que es para tener la cantidad de palabras en un tweet, donde la fila es el tweet, y la columna la palabra"
      ]
    },
    {
      "cell_type": "code",
      "metadata": {
        "id": "VxyvPq6s_UgK",
        "colab_type": "code",
        "colab": {}
      },
      "source": [
        "dtm <- DocumentTermMatrix(clean_corp)\n",
        "sparseData <- removeSparseTerms(dtm, sparse=0.995)\n",
        "sparsedf <- as.data.frame(as.matrix(sparseData))\n",
        "colnames(sparsedf) <- make.names(colnames(sparsedf))\n",
        "sparsedf$Negative <- tweets$Negative"
      ],
      "execution_count": 9,
      "outputs": []
    },
    {
      "cell_type": "markdown",
      "metadata": {
        "id": "zE_fiNx4_kxe",
        "colab_type": "text"
      },
      "source": [
        "5. Crearemos data de test y de entrenamiento a partir de nuestro propio dataset"
      ]
    },
    {
      "cell_type": "code",
      "metadata": {
        "id": "dpFpQAmYBTsq",
        "colab_type": "code",
        "colab": {}
      },
      "source": [
        "library(MASS)\n",
        "library(caTools)\n"
      ],
      "execution_count": 15,
      "outputs": []
    },
    {
      "cell_type": "code",
      "metadata": {
        "id": "jy7MLLJ4_rNT",
        "colab_type": "code",
        "colab": {}
      },
      "source": [
        "set.seed(101)\n",
        "split <- sample.split(sparsedf$Negative, SplitRatio = 0.7)\n",
        "trainSparse <- subset(sparsedf, split==TRUE)\n",
        "testSparse <- subset(sparsedf, split==FALSE)"
      ],
      "execution_count": 16,
      "outputs": []
    },
    {
      "cell_type": "markdown",
      "metadata": {
        "id": "LxtARNuH_r9l",
        "colab_type": "text"
      },
      "source": [
        "6. Crearemos el modelo de arbol regresional, y un objeto para la prediccion"
      ]
    },
    {
      "cell_type": "code",
      "metadata": {
        "id": "UNGuTjhj_uQF",
        "colab_type": "code",
        "colab": {}
      },
      "source": [
        "tweet.CART <- rpart(Negative~., trainSparse, method='class')\n",
        "predictCART <- predict(tweet.CART, testSparse, type='class')"
      ],
      "execution_count": 17,
      "outputs": []
    },
    {
      "cell_type": "markdown",
      "metadata": {
        "id": "gI-a__muDkbc",
        "colab_type": "text"
      },
      "source": [
        "Visualizamos un arbol para ver graficamente"
      ]
    },
    {
      "cell_type": "code",
      "metadata": {
        "id": "LcURBEV2Dm6-",
        "colab_type": "code",
        "colab": {
          "base_uri": "https://localhost:8080/",
          "height": 437
        },
        "outputId": "05da9575-70c5-4a2d-b345-83ad757cd7aa"
      },
      "source": [
        "prp(tweet.CART)"
      ],
      "execution_count": 26,
      "outputs": [
        {
          "output_type": "display_data",
          "data": {
            "image/png": "[encoded data removed]",
            "text/plain": [
              "plot without title"
            ]
          },
          "metadata": {
            "tags": [],
            "image/png": {
              "width": 420,
              "height": 420
            }
          }
        }
      ]
    },
    {
      "cell_type": "markdown",
      "metadata": {
        "id": "cCM50EeZ_5gJ",
        "colab_type": "text"
      },
      "source": [
        "7. Entrenamos el modelo para que podamos realizar la prediccion"
      ]
    },
    {
      "cell_type": "code",
      "metadata": {
        "id": "IWwgjISy_9Sh",
        "colab_type": "code",
        "colab": {}
      },
      "source": [
        "control <- trainControl(method='cv', number=10)\n",
        "metric <- 'Accuracy'\n",
        "set.seed(101)\n",
        "tweet.cart <- train(Negative~., data=trainSparse, method='rpart',\n",
        "                    trControl=control, metric=metric)\n",
        "\n",
        "tweet.pred <- predict(tweet.cart, testSparse)\n"
      ],
      "execution_count": 21,
      "outputs": []
    },
    {
      "cell_type": "markdown",
      "metadata": {
        "id": "98cWAifnASQG",
        "colab_type": "text"
      },
      "source": [
        "8. Comprobamos nuestra predicción con una matriz de confusion"
      ]
    },
    {
      "cell_type": "code",
      "metadata": {
        "id": "U20UD4iSAKMi",
        "colab_type": "code",
        "colab": {
          "base_uri": "https://localhost:8080/",
          "height": 503
        },
        "outputId": "2934fbd0-5d90-49ca-c6e6-e8e832b650e0"
      },
      "source": [
        "confusionMatrix(tweet.pred, testSparse$Negative)"
      ],
      "execution_count": 22,
      "outputs": [
        {
          "output_type": "display_data",
          "data": {
            "text/plain": [
              "Confusion Matrix and Statistics\n",
              "\n",
              "          Reference\n",
              "Prediction FALSE TRUE\n",
              "     FALSE   418  163\n",
              "     TRUE      6   26\n",
              "                                          \n",
              "               Accuracy : 0.7243          \n",
              "                 95% CI : (0.6871, 0.7593)\n",
              "    No Information Rate : 0.6917          \n",
              "    P-Value [Acc > NIR] : 0.04299         \n",
              "                                          \n",
              "                  Kappa : 0.1603          \n",
              "                                          \n",
              " Mcnemar's Test P-Value : < 2e-16         \n",
              "                                          \n",
              "            Sensitivity : 0.9858          \n",
              "            Specificity : 0.1376          \n",
              "         Pos Pred Value : 0.7194          \n",
              "         Neg Pred Value : 0.8125          \n",
              "             Prevalence : 0.6917          \n",
              "         Detection Rate : 0.6819          \n",
              "   Detection Prevalence : 0.9478          \n",
              "      Balanced Accuracy : 0.5617          \n",
              "                                          \n",
              "       'Positive' Class : FALSE           \n",
              "                                          "
            ]
          },
          "metadata": {
            "tags": []
          }
        }
      ]
    }
  ]
}